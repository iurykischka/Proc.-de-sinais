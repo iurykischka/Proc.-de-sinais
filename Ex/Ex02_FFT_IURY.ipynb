{
  "cells": [
    {
      "cell_type": "markdown",
      "metadata": {
        "id": "HddtemZFx4Mk"
      },
      "source": [
        "<a href=\"https://colab.research.google.com/github/ifmg-betim/2022.2_AUT.040_ProcSin/blob/main/Ex/Ex02_FFT_SEUNOME.ipynb\" target=\"_parent\"><img src=\"https://colab.research.google.com/assets/colab-badge.svg\" alt=\"Open In Colab\"/></a>"
      ]
    },
    {
      "cell_type": "markdown",
      "metadata": {
        "id": "nDIyRp-2x4Mp"
      },
      "source": [
        "# Ex02 - `[escreva seu nome aqui (RA)]`\n",
        "\n",
        "Bem vindo! Nessa atividade você usará o Jupyter Notebook para analisar sinais.\n",
        "\n",
        "**HONESTIDADE ACADÊMICA**\n",
        "\n",
        "Todo o trabalho feito no sentido do cumprimento das expectativas deste curso deve ser exclusivamente seu. A colaboração de terceiros na realização dos trabalhos não é permitida.\n",
        "\n",
        "Ver ou copiar o trabalho de outro indivíduo do curso ou retirar material de um livro, site ou outra fonte, mesmo em parte e apresentá-lo como seu próprio constitui desonestidade acadêmica, assim como mostrar ou dar a sua obra, mesmo em parte, a outro estudante. Da mesma forma, é desonestidade acadêmica fornecer ou tornar as soluções disponíveis dos trabalhos para os indivíduos que fazem ou poderão fazer este curso no futuro. Você está convidado a discutir o material do curso com os outros, a fim de melhor compreendê-lo. Você pode até discutir sobre os trabalhos com os colegas, mas você não pode compartilhar códigos, funções, projetos, tabelas, desenhos esquemáticos, mapas ou diagramas.\n",
        "\n",
        "Você pode e deve recorrer à Web para obter referências na busca de soluções para os trabalhos, mas não por soluções definitivas para os problemas. No entanto, deve-se citar explicitamente no projeto a origem de qualquer procedimento ou técnica que você descubra fora do curso.\n",
        "\n",
        "Todas as formas de desonestidade acadêmica são tratadas com rigor.\n",
        "\n",
        "**Instruções:**\n",
        "- Use a versão Python 3.x\n",
        "- Não apague os comentários existentes, mas você pode adicionar outros comentários.\n",
        "- *TODOS* os gráficos devem conter rótulos adequados nos eixos vertical e horizontal.\n",
        "- *TODOS* os gráficos que possiurem mais de uma curva representada devem conter legenda apropriada.\n",
        "\n",
        "**Objetivos**\n",
        "- Implementar a transformada de Fourier para sinais\n",
        "- Analisar sinais no domínio da frequência"
      ]
    },
    {
      "cell_type": "markdown",
      "metadata": {
        "id": "etaeDZJax4Mq"
      },
      "source": [
        "## O Jupyter notebook\n",
        "\n",
        "O Jupyter Notebook é um ambiente interativo de programação em uma página web. Nesse notebook você colocará o código entre os comentários `### SEU CÓDIGO COMEÇA AQUI ###` e `### FIM DO CÓDIGO ###`. Após escrever o código, você pode executar a célula com `Shift+Enter` ou no botão \"Run\" (com símbolo de \"play\") na barra de comandos acima.\n",
        "\n",
        "Em alguns trechos será especificado \"(≈ X linhas de código)\" nos comentários para que você tenha uma ideia sobre o tamanho do código a ser desenvolvido naquele trecho. Lembrando que é só uma estimativa, o seu código pode ficar maior ou menor do que o especificado.\n",
        "\n",
        "**Alguns atalhos úteis *no código*:**\n",
        "- `Ctrl+Enter`: executa a célula e mantém o cursor na mesma célula\n",
        "- `Shift+Enter`: executa a célula e move o cursor para a próxima célula\n",
        "- `Ctrl+/` ou `Ctrl+:`: comenta a linha de código\n",
        "- `Shift+Tab`: quando o cursor estiver em uma função, mostra um HELP da função\n",
        "\n",
        "**Alguns atalhos úteis *na célula*:**\n",
        "- Cria nova célula `a`: acima, `b`: abaixo da céula selecionada\n",
        "- `d` (2x): deleta célula selecionada\n",
        "- `m`: define célula como texto (Markdown)\n",
        "- `y`: define célula como código (Python)\n",
        "- `l`: mostra numeração das linhas na célula de código\n",
        "- `c`: copiar, `v`: colar, `x`: recortar célula selecionada\n",
        "- `ctrl+shift+p`: mostra busca para todos comandos de célula"
      ]
    },
    {
      "cell_type": "markdown",
      "metadata": {
        "id": "o3yCMFuvx4Mr"
      },
      "source": [
        "## Escreva seu RA na variável abaixo (sem os zeros à esquerda!)"
      ]
    },
    {
      "cell_type": "code",
      "execution_count": null,
      "metadata": {
        "id": "zDk8Nmi7x4Mr"
      },
      "outputs": [],
      "source": [
        "### SEU CÓDIGO COMEÇA AQUI ### (≈ 1 linha de código)\n",
        "RA = ...\n",
        "### FIM DO CÓDIGO ###"
      ]
    },
    {
      "cell_type": "markdown",
      "metadata": {
        "id": "ZB3UCr_gx4Mt"
      },
      "source": [
        "## Análise de sinais no domínio da frequência\n",
        "Como visto em aula, para analisar sinais de tempo contínuo usando ferramenta computacional, será necessário trabalhar com sua versão *amostrada* e *finita*. Para isso, implementaremos a série de Fourier, dada por:\n",
        "$$ \\tilde{X}[k] = \\frac{1}{N} \\sum_{n=\\langle N \\rangle} \\tilde{x}[n] e^{-jk(2\\pi/N)n} .$$\n",
        "\n",
        "**Dica:** use a função FFT da biblioteca SciPy para calcular os coeficientes da série https://docs.scipy.org/doc/scipy/reference/generated/scipy.fft.fft.html. Mas não se esqueça de fazer os ajustes necessários!\n",
        "\n",
        "<mark>**Faça**</mark>: implemente uma função que receba um sinal e o respectivo vetor tempo. A função deve retornar os coeficientes da série de Fourier, prontos para serem plotados! A função deve ter os seguintes parâmetros:\n",
        "1. Nome da função:\n",
        "  + `fourier()`\n",
        "1. Entrada:\n",
        "  + `x`: vetor representando o sinal (para saber a dimensão de um vetor use `x.size` ou `len(x)`).\n",
        "  + `t`: vetor representando o tempo (esse tempo deve ser usado para determinar o período de amostragem).\n",
        "  + `Hz`: parâmetro opcional (valor padrão `Hz=False`) do tipo `bool`. Quando verdadeiro, retorna vetor de frequências em na unidade \"Hz\"; quando falso, retorna o vetor de frequências em rad/s.\n",
        "  + `dB`: parâmetro opcional (valor padrão `dB=False`) do tipo `bool`. Quando verdadeiro, retorna as amplitudes em dB.\n",
        "  + `deg`: parâmetro opcional (valor padrão `deg=False`) que, quando `deg=True`, retorna os ângulos calculados em graus (e não em radianos).\n",
        "  + `Nfft`: parâmetro opcional do tipo `int`, que passa o número de pontos a serem calculados na FFT do sinal. Quando este parâmetro não é fornecido, deve-se fazer a FFT com o mesmo número de amostras do sinal `x`.\n",
        "1. Saída:\n",
        "  + `mag`: vetor com magnitude no domínio da frequência. Se `dB=True`, essas amplitudes são calculadas em dB.\n",
        "  + `pha`: vetor com fases no domínio da frequência.\n",
        "  + `f`: vetor com as respectivas frequências, na unidade escolhida (Hz ou rad/s)."
      ]
    },
    {
      "cell_type": "code",
      "execution_count": null,
      "metadata": {
        "id": "9U4TCpTux4Mu"
      },
      "outputs": [],
      "source": [
        "# Bibliotecas\n",
        "import numpy as np, scipy as sp, matplotlib.pyplot as plt\n",
        "#%matplotlib widget ==> para figuras interativas\n",
        "\n",
        "### SEU CÓDIGO COMEÇA AQUI ### (≈ 8 linhas de código)\n",
        "\n",
        "def serieFourier(x, t, Hz, dB, deg, Nfft):\n",
        "    ...\n",
        "    return ...\n",
        "\n",
        "### FIM DO CÓDIGO ###\n",
        "\n",
        "\n",
        "T1 = .1 #interalo de amostragem\n",
        "N1 = 100 #tamanho do sinal\n",
        "t1 = np.arange(0, N1*T1, T1) #vetor de tempo (segundos)\n",
        "x1 = 2*np.sin(2*np.pi*t1+.1*np.pi) - 1.5*np.cos(4*np.pi*t1+.7*np.pi) + 1*np.cos(6*np.pi*t1)\n",
        "mag1, pha1, f1 = fourier(x1, t1, Hz=True, dB=False, deg=False, Nfft=150)\n",
        "plt.figure(figsize=(9,4))\n",
        "plt.subplot(221)\n",
        "plt.plot(f1, mag1)\n",
        "plt.ylabel(\"$|X[k]|$\")\n",
        "plt.grid(1);\n",
        "plt.subplot(223)\n",
        "plt.ylabel(\"$\\measuredangle X[k]$ (rad)\")\n",
        "plt.xlabel(\"$f$ (Hz)\")\n",
        "plt.plot(f1, pha1)\n",
        "plt.grid(1);\n",
        "\n",
        "x1 = np.sin(5*t1+.1*np.pi) - 5*np.cos(10*t1+.7*np.pi) + 10*np.cos(20*t1) + .5\n",
        "mag1, pha1, f1 = fourier(x1, t1, Hz=False, dB=True, deg=True, Nfft=None)\n",
        "plt.subplot(222)\n",
        "plt.plot(f1, mag1)\n",
        "plt.ylabel(\"$|X[k]|_{\\mathrm{dB}}$\")\n",
        "plt.grid(1);\n",
        "plt.subplot(224)\n",
        "plt.ylabel(\"$\\measuredangle X[k]$ (°)\")\n",
        "plt.xlabel(\"$\\omega$ (rad/s)\")\n",
        "plt.plot(f1, pha1)\n",
        "plt.grid(1);\n",
        "plt.tight_layout();"
      ]
    },
    {
      "cell_type": "markdown",
      "metadata": {
        "id": "YSK5aXnLx4Mv"
      },
      "source": [
        "**Saída esperada**:\n",
        "gráfico da transformada de Fourier de dois sinais.\n",
        "<img src=\"https://github.com/ifmg-betim/2022.2_AUT.040_ProcSin/blob/main/Ex/files/Ex02_FFTs.png?raw=1\">\n",
        "___"
      ]
    },
    {
      "cell_type": "markdown",
      "metadata": {
        "id": "79aYlRt5x4Mw"
      },
      "source": [
        "## Analisando sinais de áudio\n",
        "\n",
        "Agora você usará a função criada e os seus conhecimentos para analisar o sinal de áudio de três instrumentos diferentes: um diapasão, uma flauta e um violoncelo. Você vai analisar os sinais do domínio do ***tempo*** e no domínio da ***frequência***.\n",
        "\n",
        "<mark> **Faça**</mark>: rode o código abaixo para carregar os arquivos de áudio."
      ]
    },
    {
      "cell_type": "code",
      "execution_count": null,
      "metadata": {
        "run_control": {
          "marked": false
        },
        "id": "dTBFFZwxx4Mw"
      },
      "outputs": [],
      "source": [
        "# Importa bibliotecas\n",
        "import numpy as np, scipy as sp, matplotlib.pyplot as plt, IPython.display as ipd\n",
        "from scipy.io import wavfile\n",
        "from scipy import signal\n",
        "import requests\n",
        "\n",
        "# Som do diapasão\n",
        "response = requests.get('https://github.com/ifmg-betim/2022.2_AUT.040_ProcSin/blob/main/Ex/Ex02_diapasao.wav?raw=true')\n",
        "open(\"diapasao.wav\", \"wb\").write(response.content)\n",
        "fs, diapasao = wavfile.read('diapasao.wav')\n",
        "diapasao = diapasao[:90000] # sinal do diapasão\n",
        "\n",
        "response = requests.get('https://github.com/ifmg-betim/2022.2_AUT.040_ProcSin/blob/main/Ex/Ex02_flauta.wav?raw=true')\n",
        "open(\"flauta.wav\", \"wb\").write(response.content)\n",
        "fs, flauta = wavfile.read('flauta.wav')\n",
        "flauta = flauta[:90000] # sinal da flauta\n",
        "\n",
        "response = requests.get('https://github.com/ifmg-betim/2022.2_AUT.040_ProcSin/blob/main/Ex/Ex02_cello.wav?raw=true')\n",
        "open(\"cello.wav\", \"wb\").write(response.content)\n",
        "fs, cello = wavfile.read('cello.wav')\n",
        "cello = cello[10000:100000,0] # sinal do violoncelo\n",
        "\n",
        "tempo = np.arange(len(diapasao))/fs # variável TEMPO (em segundos)"
      ]
    },
    {
      "cell_type": "markdown",
      "metadata": {
        "id": "lB5MaKsWx4Mx"
      },
      "source": [
        "<mark> **Faça**</mark>: confirme que o sinal do ***diapasão*** foi carregado, rodando a célula abaixo e ouvindo seu som."
      ]
    },
    {
      "cell_type": "code",
      "execution_count": null,
      "metadata": {
        "run_control": {
          "marked": false
        },
        "id": "u5MyYYkxx4Mx"
      },
      "outputs": [],
      "source": [
        "ipd.Audio(diapasao, rate=fs, normalize=True)"
      ]
    },
    {
      "cell_type": "markdown",
      "metadata": {
        "id": "zYAe-LSLx4My"
      },
      "source": [
        "<mark> **Faça**</mark>: confira o áudio da ***flauta***:"
      ]
    },
    {
      "cell_type": "code",
      "execution_count": null,
      "metadata": {
        "run_control": {
          "marked": false
        },
        "id": "H9PQoXyox4My"
      },
      "outputs": [],
      "source": [
        "ipd.Audio(flauta, rate=fs, normalize=True)"
      ]
    },
    {
      "cell_type": "markdown",
      "metadata": {
        "id": "gEAAWTtDx4My"
      },
      "source": [
        "<mark> **Faça**</mark>: e o áudio do ***violoncelo***:"
      ]
    },
    {
      "cell_type": "code",
      "execution_count": null,
      "metadata": {
        "run_control": {
          "marked": false
        },
        "id": "Np8eUAitx4Mz"
      },
      "outputs": [],
      "source": [
        "ipd.Audio(cello, rate=fs, normalize=True)"
      ]
    },
    {
      "cell_type": "markdown",
      "metadata": {
        "id": "rXrZnBYLx4Mz"
      },
      "source": [
        "### Análise no domínio do TEMPO\n",
        "\n",
        "Primeiro, vamos analisar os áudios no domínio do tempo. O código acima já criou as variáveis abaixo para serem usadas:\n",
        "- `tempo`: vetor tempo apresentado na unidade \"segundos\", com frequência de amostragem de $f_s=44100$ Hz. Este vetor de tempo pode ser usado para os três sinais descritos abaixo.\n",
        "- `diapasao`: vetor com amplitude do sinal de áudio do diapasão.\n",
        "- `flauta`: vetor com amplitude do sinal de áudio da flauta.\n",
        "- `violoncelo`: vetor com amplitude do sinal de áudio do violoncelo.\n",
        "\n",
        "<mark> **Faça**</mark>: usando as variáveis descritas acima, plote **num mesmo gráfico**, com tamanho `figsize=(8,1.5)`, os três sinais de áudio **no domínio do TEMPO** (escala em \"segundos\"). Inclua legenda no gráfico, usando a função `plt.legend`. Analise cada um dos sinais no tempo para responder às perguntas abaixo."
      ]
    },
    {
      "cell_type": "code",
      "execution_count": null,
      "metadata": {
        "id": "SSoEPQkCx4Mz"
      },
      "outputs": [],
      "source": [
        "### SEU CÓDIGO COMEÇA AQUI ### (≈ 8 linhas de código)\n",
        "...\n",
        "### FIM DO CÓDIGO ###"
      ]
    },
    {
      "cell_type": "markdown",
      "metadata": {
        "id": "9NVXzbaox4M0"
      },
      "source": [
        "**Saída esperada**:\n",
        "um único gráfico com TODOS os sinais no domínio do tempo, incluindo legenda.\n",
        "___\n",
        "\n",
        "<mark> **Faça**</mark>: Baseado na análise dos sinais no domínio do tempo, responda as questões a seguir (não é necessário implementar cálculos!).\n",
        "1. Quais dos sinais (`diapasao`, `flauta` ou `violoncelo`) possuem maior e menor energia no tempo? Justifique.\n",
        "1. Quais dos sinais (`diapasao`, `flauta` ou `violoncelo`) possuem maior e menor frequência de oscilação? Justifique."
      ]
    },
    {
      "cell_type": "markdown",
      "metadata": {
        "id": "7USfUu1fx4M0"
      },
      "source": [
        "**RESPOSTA**:\n",
        "\n",
        "[`escreva aqui a sua resposta`]"
      ]
    },
    {
      "cell_type": "markdown",
      "metadata": {
        "id": "fMOcIjOtx4M0"
      },
      "source": [
        "___\n",
        "\n",
        "### Análise no domínio da FREQUÊNCIA\n",
        "\n",
        "Usando a função criada anteriormente, calcule a transformada de Fourier dos sinais e compare o conteúdo espectral dos sinais.\n",
        "\n",
        "\n",
        "<mark> **Faça**</mark>: obtenha a transformada de Fourier dos três sinais de áudio com 100000 (cem mil) pontos cada um (zero-padding). Crie dois gráficos, um com *módulo* e outro com *fase*, dos sinais. Plote os três sinais *no mesmo gráfico*, usando tamanho `figsize=(8,4)` e inserindo legenda adequadamente. A unidade de frequência deve ser representada em Hertz. No gráfico, analise os sinais na frequência para responder às perguntas que seguem."
      ]
    },
    {
      "cell_type": "code",
      "execution_count": null,
      "metadata": {
        "id": "SgP0IRE4x4M1"
      },
      "outputs": [],
      "source": [
        "### SEU CÓDIGO COMEÇA AQUI ### (≈ 25 linhas de código)\n",
        "...\n",
        "### FIM DO CÓDIGO ###"
      ]
    },
    {
      "cell_type": "markdown",
      "metadata": {
        "id": "j4IiZYbHx4M1"
      },
      "source": [
        "**Saída esperada**:\n",
        "- Um gráfico com representação do módulo, no domínio da frequência (em Hz), de TODOS os sinais, incluindo legenda.\n",
        "- Um gráfico com representação da fase, no domínio da frequência (em Hz), de TODOS os sinais, incluindo legenda.\n",
        "___\n",
        "\n",
        "<mark> **Faça**</mark>: Baseado na análise dos sinais no domínio da frequência, responda as questões a seguir.\n",
        "1. Cada instrumento toca uma *nota musical*, determinada pela *frequência fundamental* de cada sinal. Qual instrumento possuem menor frequência fundamental? Sua análise na frequência está em acordo com a análise no domínio do tempo e em acordo com sua sua percepção auditiva (som agudo ou grave)?\n",
        "1. Todos os instrumentos estão tocando a mesma *nota musical*? Isto é, os sinais possuem, aproximadamente a mesma *frequência fundamental*? Discuta, comentando quais instrumentos aparentam tocar a mesma frequência e eventuais discrepâncias. Suas justificativas devem se basear na análise no domínio da frequência.\n",
        "1. Observando o domínio da frequência, qual sinal possui maior energia? Essa análise está em acordo com a análise no domínio do tempo? Justifique com base na análise no domínio da frequência.\n",
        "\n",
        "[máximo de 3 linhas de resposta em cada item]"
      ]
    },
    {
      "cell_type": "markdown",
      "metadata": {
        "id": "r5eoHoZCx4M2"
      },
      "source": [
        "**RESPOSTA**:\n",
        "\n",
        "1. [`escreva aqui a sua resposta`]\n",
        "2. [`escreva aqui a sua resposta`]\n",
        "3. [`escreva aqui a sua resposta`]"
      ]
    },
    {
      "cell_type": "markdown",
      "metadata": {
        "id": "ywyRKY8qx4M2"
      },
      "source": [
        "___\n",
        "\n",
        "Fim...\n",
        "\n",
        "Acabou rápido? Faça o desafio opcional abaixo! Se não fizer, tudo bem :c)\n",
        "\n",
        "\n",
        "## DESAFIO! (opcional, se você não fizer, não perderá pontos)\n",
        "\n",
        "Faça a FFT de um sinal real de ECG (eletrocardiograma) de uma pessoa saudável e uma pessoa com alguma anomalia. Acesse os dados neste repositório:\n",
        "https://github.com/iizukak/ecg-htm\n",
        "\n",
        "Neste outro repositório tem uma explicação sobre o sinal ECG: https://github.com/mozanunal/digital-filtering-of-ecg-signal\n",
        "\n",
        "É possível distinguir o ECG normal do sinal de ECG com alguma anormalia pela FFT do sinal?\n",
        "\n",
        "**Para saber mais**: pesquise sobre como gerar um *espectrograma* do sinal acima e qual sua interpretação."
      ]
    },
    {
      "cell_type": "code",
      "execution_count": null,
      "metadata": {
        "id": "Mq6A6E_6x4M2"
      },
      "outputs": [],
      "source": [
        "### SEU CÓDIGO COMEÇA AQUI ###\n",
        "...\n",
        "### FIM DO CÓDIGO ###"
      ]
    },
    {
      "cell_type": "markdown",
      "metadata": {
        "id": "hrXcgMUGx4M3"
      },
      "source": [
        "Fim (ufa!)"
      ]
    }
  ],
  "metadata": {
    "@webio": {
      "lastCommId": null,
      "lastKernelId": null
    },
    "kernelspec": {
      "display_name": "Python 3",
      "language": "python",
      "name": "python3"
    },
    "language_info": {
      "codemirror_mode": {
        "name": "ipython",
        "version": 3
      },
      "file_extension": ".py",
      "mimetype": "text/x-python",
      "name": "python",
      "nbconvert_exporter": "python",
      "pygments_lexer": "ipython3",
      "version": "3.6.15"
    },
    "toc": {
      "base_numbering": 1,
      "nav_menu": {
        "height": "228px",
        "width": "370px"
      },
      "number_sections": true,
      "sideBar": true,
      "skip_h1_title": false,
      "title_cell": "Table of Contents",
      "title_sidebar": "Contents",
      "toc_cell": false,
      "toc_position": {},
      "toc_section_display": true,
      "toc_window_display": false
    },
    "varInspector": {
      "cols": {
        "lenName": 16,
        "lenType": 16,
        "lenVar": 40
      },
      "kernels_config": {
        "python": {
          "delete_cmd_postfix": "",
          "delete_cmd_prefix": "del ",
          "library": "var_list.py",
          "varRefreshCmd": "print(var_dic_list())"
        },
        "r": {
          "delete_cmd_postfix": ") ",
          "delete_cmd_prefix": "rm(",
          "library": "var_list.r",
          "varRefreshCmd": "cat(var_dic_list()) "
        }
      },
      "types_to_exclude": [
        "module",
        "function",
        "builtin_function_or_method",
        "instance",
        "_Feature"
      ],
      "window_display": false
    },
    "colab": {
      "name": "Ex02_FFT_SEUNOME.ipynb",
      "provenance": []
    }
  },
  "nbformat": 4,
  "nbformat_minor": 0
}