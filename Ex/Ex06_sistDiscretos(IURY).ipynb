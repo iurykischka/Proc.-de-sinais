{
  "cells": [
    {
      "cell_type": "markdown",
      "metadata": {
        "id": "B89JhrExIB01"
      },
      "source": [
        "# Ex06 - `[Iury] (0040411)`\n",
        "\n",
        "Sistemas lineares (SLITs) de tempo discreto.\n",
        "\n",
        "**HONESTIDADE ACADÊMICA**\n",
        "\n",
        "Todo o trabalho feito no sentido do cumprimento das expectativas deste curso deve ser exclusivamente seu. A colaboração de terceiros na realização dos trabalhos não é permitida.\n",
        "\n",
        "Ver ou copiar o trabalho de outro indivíduo do curso ou retirar material de um livro, site ou outra fonte, mesmo em parte e apresentá-lo como seu próprio constitui desonestidade acadêmica, assim como mostrar ou dar a sua obra, mesmo em parte, a outro estudante. Da mesma forma, é desonestidade acadêmica fornecer ou tornar as soluções disponíveis dos trabalhos para os indivíduos que fazem ou poderão fazer este curso no futuro. Você está convidado a discutir o material do curso com os outros, a fim de melhor compreendê-lo. Você pode até discutir sobre os trabalhos com os colegas, mas você não pode compartilhar códigos, funções, projetos, tabelas, desenhos esquemáticos, mapas ou diagramas.\n",
        "\n",
        "Você pode e deve recorrer à Web para obter referências na busca de soluções para os trabalhos, mas não por soluções definitivas para os problemas. No entanto, deve-se citar explicitamente no projeto a origem de qualquer procedimento ou técnica que você descubra fora do curso.\n",
        "\n",
        "Todas as formas de desonestidade acadêmica são tratadas com rigor.\n",
        "\n",
        "\n",
        "**Instruções:**\n",
        "- Não apague os comentários que já existem nas células de código. Mas é claro que você pode adicionar outros comentários.\n",
        "- Não inclua mais células do que o especificado e mantenha a organização.\n",
        "- Use `plt.figure(figsize=(10,2))` para ajustar o tamanho das figuras e sempre coloque rótulos.\n",
        "\n",
        "**Objetivos**\n",
        "- Implementar diferentes sistemas discretos\n",
        "- Analisar os sistemas implementados"
      ]
    },
    {
      "cell_type": "markdown",
      "metadata": {
        "id": "B_0yMscwIB09"
      },
      "source": [
        "## Dados epidemiológicos\n",
        "\n",
        "O código abaixo carrega os dados atualizados da covid-19 no Brasil (Fonte: https://github.com/datasets/covid-19)."
      ]
    },
    {
      "cell_type": "code",
      "execution_count": null,
      "metadata": {
        "run_control": {
          "marked": false
        },
        "id": "0-tZSRp1IB0-",
        "outputId": "3f828f65-be98-4816-baf3-56777c87174c",
        "colab": {
          "base_uri": "https://localhost:8080/",
          "height": 424
        }
      },
      "outputs": [
        {
          "output_type": "execute_result",
          "data": {
            "text/plain": [
              "             Date Country  Confirmed  Recovered  Deaths\n",
              "19584  2020-01-22  Brazil          0          0       0\n",
              "19585  2020-01-23  Brazil          0          0       0\n",
              "19586  2020-01-24  Brazil          0          0       0\n",
              "19587  2020-01-25  Brazil          0          0       0\n",
              "19588  2020-01-26  Brazil          0          0       0\n",
              "...           ...     ...        ...        ...     ...\n",
              "20394  2022-04-11  Brazil   30161909          0  661576\n",
              "20395  2022-04-12  Brazil   30184286          0  661741\n",
              "20396  2022-04-13  Brazil   30210934          0  661904\n",
              "20397  2022-04-14  Brazil   30234024          0  662043\n",
              "20398  2022-04-15  Brazil   30247302          0  662154\n",
              "\n",
              "[815 rows x 5 columns]"
            ],
            "text/html": [
              "\n",
              "  <div id=\"df-63f22c1e-d5ef-4f88-aac7-0b801a8a25d9\">\n",
              "    <div class=\"colab-df-container\">\n",
              "      <div>\n",
              "<style scoped>\n",
              "    .dataframe tbody tr th:only-of-type {\n",
              "        vertical-align: middle;\n",
              "    }\n",
              "\n",
              "    .dataframe tbody tr th {\n",
              "        vertical-align: top;\n",
              "    }\n",
              "\n",
              "    .dataframe thead th {\n",
              "        text-align: right;\n",
              "    }\n",
              "</style>\n",
              "<table border=\"1\" class=\"dataframe\">\n",
              "  <thead>\n",
              "    <tr style=\"text-align: right;\">\n",
              "      <th></th>\n",
              "      <th>Date</th>\n",
              "      <th>Country</th>\n",
              "      <th>Confirmed</th>\n",
              "      <th>Recovered</th>\n",
              "      <th>Deaths</th>\n",
              "    </tr>\n",
              "  </thead>\n",
              "  <tbody>\n",
              "    <tr>\n",
              "      <th>19584</th>\n",
              "      <td>2020-01-22</td>\n",
              "      <td>Brazil</td>\n",
              "      <td>0</td>\n",
              "      <td>0</td>\n",
              "      <td>0</td>\n",
              "    </tr>\n",
              "    <tr>\n",
              "      <th>19585</th>\n",
              "      <td>2020-01-23</td>\n",
              "      <td>Brazil</td>\n",
              "      <td>0</td>\n",
              "      <td>0</td>\n",
              "      <td>0</td>\n",
              "    </tr>\n",
              "    <tr>\n",
              "      <th>19586</th>\n",
              "      <td>2020-01-24</td>\n",
              "      <td>Brazil</td>\n",
              "      <td>0</td>\n",
              "      <td>0</td>\n",
              "      <td>0</td>\n",
              "    </tr>\n",
              "    <tr>\n",
              "      <th>19587</th>\n",
              "      <td>2020-01-25</td>\n",
              "      <td>Brazil</td>\n",
              "      <td>0</td>\n",
              "      <td>0</td>\n",
              "      <td>0</td>\n",
              "    </tr>\n",
              "    <tr>\n",
              "      <th>19588</th>\n",
              "      <td>2020-01-26</td>\n",
              "      <td>Brazil</td>\n",
              "      <td>0</td>\n",
              "      <td>0</td>\n",
              "      <td>0</td>\n",
              "    </tr>\n",
              "    <tr>\n",
              "      <th>...</th>\n",
              "      <td>...</td>\n",
              "      <td>...</td>\n",
              "      <td>...</td>\n",
              "      <td>...</td>\n",
              "      <td>...</td>\n",
              "    </tr>\n",
              "    <tr>\n",
              "      <th>20394</th>\n",
              "      <td>2022-04-11</td>\n",
              "      <td>Brazil</td>\n",
              "      <td>30161909</td>\n",
              "      <td>0</td>\n",
              "      <td>661576</td>\n",
              "    </tr>\n",
              "    <tr>\n",
              "      <th>20395</th>\n",
              "      <td>2022-04-12</td>\n",
              "      <td>Brazil</td>\n",
              "      <td>30184286</td>\n",
              "      <td>0</td>\n",
              "      <td>661741</td>\n",
              "    </tr>\n",
              "    <tr>\n",
              "      <th>20396</th>\n",
              "      <td>2022-04-13</td>\n",
              "      <td>Brazil</td>\n",
              "      <td>30210934</td>\n",
              "      <td>0</td>\n",
              "      <td>661904</td>\n",
              "    </tr>\n",
              "    <tr>\n",
              "      <th>20397</th>\n",
              "      <td>2022-04-14</td>\n",
              "      <td>Brazil</td>\n",
              "      <td>30234024</td>\n",
              "      <td>0</td>\n",
              "      <td>662043</td>\n",
              "    </tr>\n",
              "    <tr>\n",
              "      <th>20398</th>\n",
              "      <td>2022-04-15</td>\n",
              "      <td>Brazil</td>\n",
              "      <td>30247302</td>\n",
              "      <td>0</td>\n",
              "      <td>662154</td>\n",
              "    </tr>\n",
              "  </tbody>\n",
              "</table>\n",
              "<p>815 rows × 5 columns</p>\n",
              "</div>\n",
              "      <button class=\"colab-df-convert\" onclick=\"convertToInteractive('df-63f22c1e-d5ef-4f88-aac7-0b801a8a25d9')\"\n",
              "              title=\"Convert this dataframe to an interactive table.\"\n",
              "              style=\"display:none;\">\n",
              "        \n",
              "  <svg xmlns=\"http://www.w3.org/2000/svg\" height=\"24px\"viewBox=\"0 0 24 24\"\n",
              "       width=\"24px\">\n",
              "    <path d=\"M0 0h24v24H0V0z\" fill=\"none\"/>\n",
              "    <path d=\"M18.56 5.44l.94 2.06.94-2.06 2.06-.94-2.06-.94-.94-2.06-.94 2.06-2.06.94zm-11 1L8.5 8.5l.94-2.06 2.06-.94-2.06-.94L8.5 2.5l-.94 2.06-2.06.94zm10 10l.94 2.06.94-2.06 2.06-.94-2.06-.94-.94-2.06-.94 2.06-2.06.94z\"/><path d=\"M17.41 7.96l-1.37-1.37c-.4-.4-.92-.59-1.43-.59-.52 0-1.04.2-1.43.59L10.3 9.45l-7.72 7.72c-.78.78-.78 2.05 0 2.83L4 21.41c.39.39.9.59 1.41.59.51 0 1.02-.2 1.41-.59l7.78-7.78 2.81-2.81c.8-.78.8-2.07 0-2.86zM5.41 20L4 18.59l7.72-7.72 1.47 1.35L5.41 20z\"/>\n",
              "  </svg>\n",
              "      </button>\n",
              "      \n",
              "  <style>\n",
              "    .colab-df-container {\n",
              "      display:flex;\n",
              "      flex-wrap:wrap;\n",
              "      gap: 12px;\n",
              "    }\n",
              "\n",
              "    .colab-df-convert {\n",
              "      background-color: #E8F0FE;\n",
              "      border: none;\n",
              "      border-radius: 50%;\n",
              "      cursor: pointer;\n",
              "      display: none;\n",
              "      fill: #1967D2;\n",
              "      height: 32px;\n",
              "      padding: 0 0 0 0;\n",
              "      width: 32px;\n",
              "    }\n",
              "\n",
              "    .colab-df-convert:hover {\n",
              "      background-color: #E2EBFA;\n",
              "      box-shadow: 0px 1px 2px rgba(60, 64, 67, 0.3), 0px 1px 3px 1px rgba(60, 64, 67, 0.15);\n",
              "      fill: #174EA6;\n",
              "    }\n",
              "\n",
              "    [theme=dark] .colab-df-convert {\n",
              "      background-color: #3B4455;\n",
              "      fill: #D2E3FC;\n",
              "    }\n",
              "\n",
              "    [theme=dark] .colab-df-convert:hover {\n",
              "      background-color: #434B5C;\n",
              "      box-shadow: 0px 1px 3px 1px rgba(0, 0, 0, 0.15);\n",
              "      filter: drop-shadow(0px 1px 2px rgba(0, 0, 0, 0.3));\n",
              "      fill: #FFFFFF;\n",
              "    }\n",
              "  </style>\n",
              "\n",
              "      <script>\n",
              "        const buttonEl =\n",
              "          document.querySelector('#df-63f22c1e-d5ef-4f88-aac7-0b801a8a25d9 button.colab-df-convert');\n",
              "        buttonEl.style.display =\n",
              "          google.colab.kernel.accessAllowed ? 'block' : 'none';\n",
              "\n",
              "        async function convertToInteractive(key) {\n",
              "          const element = document.querySelector('#df-63f22c1e-d5ef-4f88-aac7-0b801a8a25d9');\n",
              "          const dataTable =\n",
              "            await google.colab.kernel.invokeFunction('convertToInteractive',\n",
              "                                                     [key], {});\n",
              "          if (!dataTable) return;\n",
              "\n",
              "          const docLinkHtml = 'Like what you see? Visit the ' +\n",
              "            '<a target=\"_blank\" href=https://colab.research.google.com/notebooks/data_table.ipynb>data table notebook</a>'\n",
              "            + ' to learn more about interactive tables.';\n",
              "          element.innerHTML = '';\n",
              "          dataTable['output_type'] = 'display_data';\n",
              "          await google.colab.output.renderOutput(dataTable, element);\n",
              "          const docLink = document.createElement('div');\n",
              "          docLink.innerHTML = docLinkHtml;\n",
              "          element.appendChild(docLink);\n",
              "        }\n",
              "      </script>\n",
              "    </div>\n",
              "  </div>\n",
              "  "
            ]
          },
          "metadata": {},
          "execution_count": 2
        }
      ],
      "source": [
        "# Importa dados\n",
        "import pandas as pd, numpy as np\n",
        "URL_DATASET = r'https://raw.githubusercontent.com/datasets/covid-19/master/data/countries-aggregated.csv'\n",
        "dados = pd.read_csv(URL_DATASET)\n",
        "\n",
        "# datas\n",
        "datas = dados[dados['Country'] == 'Brazil']['Date']\n",
        "\n",
        "# número de casos confirmados\n",
        "brCas = dados[dados['Country'] == 'Brazil']['Confirmed'].to_numpy(dtype=np.float64)\n",
        "\n",
        "# número de mortes\n",
        "brMor = dados[dados['Country'] == 'Brazil']['Deaths'].to_numpy(dtype=np.float64)\n",
        "\n",
        "dados[dados['Country'] == 'Brazil'].head(-1)"
      ]
    },
    {
      "cell_type": "markdown",
      "metadata": {
        "id": "bDUxfU9OIB1A"
      },
      "source": [
        "Existem três variáveis (mensais) do código acima que você utilizará:\n",
        "- `brCas`: número total de casos confirmados\n",
        "- `brMor`: número total de mortes\n",
        "\n",
        "<mark>**Fazer:** importe as bibliotecas necessárias e plote os gráficos das duas variáveis acima. Use `figsize=(10,2)`.</mark>"
      ]
    },
    {
      "cell_type": "code",
      "execution_count": null,
      "metadata": {
        "id": "pV9k_OAeIB1A",
        "outputId": "169fc046-b94d-4715-9589-facbcf6d09e2",
        "colab": {
          "base_uri": "https://localhost:8080/",
          "height": 187
        }
      },
      "outputs": [
        {
          "output_type": "display_data",
          "data": {
            "text/plain": [
              "<Figure size 720x144 with 1 Axes>"
            ],
            "image/png": "[encoded data removed]"
          },
          "metadata": {
            "needs_background": "light"
          }
        }
      ],
      "source": [
        "### SEU CÓDIGO COMEÇA AQUI ###\n",
        "\n",
        "import matplotlib.pyplot as plt\n",
        "import numpy as np\n",
        "import scipy as sp\n",
        "from scipy import signal\n",
        "\n",
        "plt.figure(figsize = (10,2))\n",
        "plt.plot(brCas);\n",
        "plt.plot(brMor);\n",
        "plt.title(\"Casos de COVID-19\")\n",
        "plt.ylabel(\"Total\")\n",
        "plt.xlabel(\"Dias\")\n",
        "plt.legend([\"Total de Casos\",\"Total de Mortes\"], loc=2)\n",
        "plt.grid(1);\n",
        "\n",
        "\n",
        "### FIM DO CÓDIGO ###"
      ]
    },
    {
      "cell_type": "markdown",
      "metadata": {
        "id": "8zg7lUUCIB1B"
      },
      "source": [
        "**Saída esperada**:\n",
        "1. Gráfico do número total de casos confirmados, número total de mortes. Todos num mesmo gráfico, com legendas, rótulos e dimensões apropriadas.\n",
        "---\n",
        "\n",
        "## Sistema de diferenças regressivas (casos diários)\n",
        "\n",
        "Para melhor analisarmos os dados, plote os dados *diários* no lugar dos dados *totais*. Para fazer isso, implemente um sistema FIR de diferenças regressivas, dado por:\n",
        "\n",
        "$$ y(k) = u(k) - u(k-1) $$\n",
        "\n",
        "Obs.: note que esse sistema pode ser implementado usando um laço `for` convencional; ou pode ser implementado de forma *vetorizada*, usando operações com vetores; ou ainda, usando a função `dlsim` com `dlti`.\n",
        "\n",
        "<mark>**Fazer:** implemente o sistema de diferenças regressivas usando a função `dlti` (você precisará transformar a equação para o domínio z) e plote o diagrama de Bode (módulo e fase) do sistema usando `dbode`. Use `figsize=(10,2)`.</mark>"
      ]
    },
    {
      "cell_type": "code",
      "execution_count": null,
      "metadata": {
        "id": "D0B511TCIB1C",
        "outputId": "cb0ae139-c694-44bd-dd49-f1023999e379",
        "colab": {
          "base_uri": "https://localhost:8080/",
          "height": 398
        }
      },
      "outputs": [
        {
          "output_type": "stream",
          "name": "stderr",
          "text": [
            "/usr/local/lib/python3.7/dist-packages/scipy/signal/ltisys.py:3860: RuntimeWarning: divide by zero encountered in log10\n",
            "  mag = 20.0 * numpy.log10(abs(y))\n"
          ]
        },
        {
          "output_type": "display_data",
          "data": {
            "text/plain": [
              "<Figure size 720x144 with 1 Axes>"
            ],
            "image/png": "[encoded data removed]"
          },
          "metadata": {
            "needs_background": "light"
          }
        },
        {
          "output_type": "display_data",
          "data": {
            "text/plain": [
              "<Figure size 720x144 with 1 Axes>"
            ],
            "image/png": "[encoded data removed]"
          },
          "metadata": {
            "needs_background": "light"
          }
        }
      ],
      "source": [
        "### SEU CÓDIGO COMEÇA AQUI ###\n",
        "\n",
        "num = [1, -1];\n",
        "den = [1, 0];\n",
        "\n",
        "sys1 = signal.dlti(num, den);\n",
        "\n",
        "\n",
        "w1, mag1, phase1 = signal.dbode (sys1); #Transforma pro dominio Z atraves do Bode\n",
        "\n",
        "#bode modulo\n",
        "plt.figure(figsize=(10,2))\n",
        "plt.semilogx(w1, mag1)\n",
        "#plt.xlim(10**(-2),1)\n",
        "plt.xlabel(\"frequencias (Hz)\")\n",
        "plt.ylabel(\"$|X[k]|$\")\n",
        "plt.title(\"Diagrama de Bode - Módulo\")\n",
        "plt.grid(1);\n",
        "\n",
        "#bode Fase\n",
        "plt.figure(figsize=(10,2))\n",
        "plt.ylabel(\"$\\measuredangle X[k]$ (°)\")\n",
        "plt.xlabel(\"frequencia (Hz)\")\n",
        "plt.title(\"Diagrama de Bode - Fase\")\n",
        "plt.semilogx(w1, phase1)\n",
        "plt.grid(1);\n",
        "\n",
        "### FIM DO CÓDIGO ###"
      ]
    },
    {
      "cell_type": "markdown",
      "metadata": {
        "id": "mjj8Cyr5IB1D"
      },
      "source": [
        "**Saída esperada**:\n",
        "1. Diagrama de Bode (módulo e fase) do sistemas de diferenças regressivas. O gráfico deve ter legendas, ***rótulos*** (expresse a unidade de frequência corretamente!) e dimensões apropriadas.\n",
        "---\n",
        "\n",
        "## Casos diários\n",
        "\n",
        "<mark>**Fazer:** passe os sinais `brCas` e `brMor` no sistema de diferenças regressivas implementado e mostre em três gráficos diferentes: os casos diários, mortes diárias e recuperados diários. Use `figsize=(9,2)`.</mark>"
      ]
    },
    {
      "cell_type": "code",
      "execution_count": null,
      "metadata": {
        "id": "z_OlIZoDIB1D",
        "outputId": "26a13773-21fc-4259-d4b7-b1c911c75511",
        "colab": {
          "base_uri": "https://localhost:8080/",
          "height": 357
        }
      },
      "outputs": [
        {
          "output_type": "display_data",
          "data": {
            "text/plain": [
              "<Figure size 648x144 with 1 Axes>"
            ],
            "image/png": "[encoded data removed]"
          },
          "metadata": {
            "needs_background": "light"
          }
        },
        {
          "output_type": "display_data",
          "data": {
            "text/plain": [
              "<Figure size 648x144 with 1 Axes>"
            ],
            "image/png": "[encoded data removed]"
          },
          "metadata": {
            "needs_background": "light"
          }
        }
      ],
      "source": [
        "### SEU CÓDIGO COMEÇA AQUI ###\n",
        "\n",
        "ty_brCas, y_brCas = signal.dlsim(sys1, brCas)\n",
        "ty_brMor, y_brMor = signal.dlsim(sys1, brMor)\n",
        "\n",
        "plt.figure(figsize = (9,2))\n",
        "plt.plot(ty_brCas, y_brCas);\n",
        "plt.title(\"Casos diários de COVID-19\")\n",
        "plt.ylabel(\"Total\")\n",
        "plt.xlabel(\"Dias\")\n",
        "plt.grid(1);\n",
        "\n",
        "plt.figure(figsize = (9,2))\n",
        "plt.plot(ty_brMor, y_brMor);\n",
        "plt.title(\"Mortes diárias por COVID-19\")\n",
        "plt.ylabel(\"Total\")\n",
        "plt.xlabel(\"Dias\")\n",
        "plt.grid(1);\n",
        "\n",
        "### FIM DO CÓDIGO ###"
      ]
    },
    {
      "cell_type": "markdown",
      "metadata": {
        "id": "hXqasZGmIB1E"
      },
      "source": [
        "**Saída esperada**:\n",
        "1. Gráfico do número de casos confirmados diários\n",
        "1. Gráfico do número de mortes diárias\n",
        "---\n",
        "\n",
        "## Análise na frequência\n",
        "\n",
        "Agora faça análise desses sinais no domínio da frequência.\n",
        "\n",
        "**ATENÇÃO**: a partir de agora, use os ***dados diários*** apenas, obtidos com o sistema de diferenças regressivas, não use os dados de mortes/casos totais não!\n",
        "\n",
        "<mark>**Fazer:** faça a FFT (somente módulo) dos sinais acima. Sabendo que o período de amostragem é de um dia, represente o eixo horizontal da FFT em uma unidade apropriada (ex.: \"1/dia\").</mark>"
      ]
    },
    {
      "cell_type": "code",
      "execution_count": null,
      "metadata": {
        "id": "CDxNIXbgXPGc"
      },
      "outputs": [],
      "source": [
        "### SEU CÓDIGO COMEÇA AQUI ###\n",
        "\n",
        "import numpy as np, scipy as sp, matplotlib.pyplot as plt\n",
        "from scipy import signal\n",
        "from scipy.fft import fft\n",
        "\n",
        "def fourier(x, t, Hz=False, dB=False, deg=False, Nfft=None):\n",
        "\n",
        "    N = len(x)\n",
        "    T = t[1] - t[0]\n",
        "\n",
        "    if Nfft == None:\n",
        "      Nfft = N\n",
        "\n",
        "    X_f = fft(x, n=Nfft)\n",
        "    X_f = X_f/N # corrige amplitude do sinal\n",
        "    X_f = X_f[:Nfft//2]\n",
        "    X_f[1:] = 2*X_f[1:]\n",
        "\n",
        "    if Hz == True:\n",
        "      f0 = 1/(Nfft*T) #freq em Hz\n",
        "      fHz = np.arange(Nfft)*f0 #freq em Hz\n",
        "      f = fHz[:Nfft//2]\n",
        "    else:\n",
        "      w0 = 2*np.pi/(Nfft*T) #freq em rad/s\n",
        "      wRad = np.arange(Nfft)*w0 #freq em rad/s\n",
        "      f = wRad[:Nfft//2]\n",
        "\n",
        "    if dB == True:\n",
        "      mag = 20*np.log10(np.abs(X_f)) #modulo no dominio da frequencia em dB\n",
        "    else:\n",
        "      mag = np.abs(X_f) #modulo no dominio da frequencia em dB\n",
        "      \n",
        "    if deg == True:\n",
        "      pha = np.angle(X_f, deg=1) #fase no dominio da frequencia \n",
        "    else:\n",
        "      pha = np.angle(X_f, deg=0)\n",
        "           \n",
        "    return mag, pha, f;\n",
        "\n",
        "    #ZOOM NO SINAL: PLT.XLIM (50,70) -> OBSERVA SO O RANGE DE 50 A 70 DO DOM DO TEMPO\n",
        "    #f = 1/T -> frequencia pelo periodo\n",
        "\n",
        "### FIM DO CÓDIGO ###\n",
        "\n",
        "### FIM DO CÓDIGO ###"
      ]
    },
    {
      "cell_type": "code",
      "execution_count": null,
      "metadata": {
        "id": "OfKaRQZOIB1F",
        "colab": {
          "base_uri": "https://localhost:8080/",
          "height": 187
        },
        "outputId": "1809ef22-4a18-48e3-8e40-6b6d3b658300"
      },
      "outputs": [
        {
          "output_type": "display_data",
          "data": {
            "text/plain": [
              "<Figure size 648x144 with 1 Axes>"
            ],
            "image/png": "[encoded data removed]"
          },
          "metadata": {
            "needs_background": "light"
          }
        }
      ],
      "source": [
        "### SEU CÓDIGO COMEÇA AQUI ###\n",
        "\n",
        "mag_cas, pha_cas, f_cas = fourier(y_brCas, ty_brCas, Hz=True, dB=False, deg=False, Nfft=None); #gera o grafico da entrada em frequencia\n",
        "mag_mor, pha_mor, f_mor = fourier(y_brMor, ty_brMor, Hz=True, dB=False, deg=False, Nfft=None); #gera o grafico da entrada em frequencia\n",
        "\n",
        "plt.figure(figsize = (9,2))\n",
        "plt.plot(mag_cas)\n",
        "plt.plot(mag_mor)\n",
        "plt.title(\"Mortes diárias por COVID-19\")\n",
        "plt.ylabel(\"Total\")\n",
        "plt.xlabel(\"Dias\")\n",
        "plt.legend([\"Total de Casos\",\"Total de Mortes\"], loc=2)\n",
        "plt.grid(1);\n",
        "\n",
        "\n",
        "### FIM DO CÓDIGO ###"
      ]
    },
    {
      "cell_type": "markdown",
      "metadata": {
        "id": "B0Woje3YIB1F"
      },
      "source": [
        "**Saída esperada**:\n",
        "1. FFT (módulo) do número de casos confirmados\n",
        "1. FFT (módulo) do número de mortes\n",
        "---\n",
        "\n",
        "## Sistemas de tempo discreto\n",
        "\n",
        "Usando as funções da biblioteca de processamento de sinais (https://docs.scipy.org/doc/scipy/reference/signal.html), implemente os seguintes sistemas:\n",
        "1. Sistema de diferenças regressivas\n",
        "1. Sistema média móvel causal de 7 amostras (uma semana)\n",
        "1. Sistema média móvel não causal de 7 amostras (uma semana)\n",
        "\n",
        "**ATENÇÃO**: os sistemas acima devem ser implementados para os ***dados diários*** apenas, obtidos com o primeiro sistema de diferenças regressivas, não use os dados de mortes/casos totais não! Neste ponto, deve ser implementado OUTRO sistema de diferenças regressivas -- e também os demais sistemas.\n",
        "\n",
        "**ATENÇÃO**: as funções usadas para sistemas contínuos são diferentes das usadas para sistemas discretos.\n",
        "\n",
        "Após implementar os três sistemas acima, para cada um deles faça:\n",
        "- Plote o diagrama de Bode do sistema (módulo e fase)\n",
        "- Mostre a resposta ao degrau do sistema\n",
        "- Mostre a constelação de polos e zeros no plano z (opcional: você pode usar a função `control.pzmap` da biblioteca 'Python Control Systems Library' se quiser)\n",
        "\n",
        "<mark>**Fazer:** mostre os gráficos para cada sistema em uma célula.</mark>"
      ]
    },
    {
      "cell_type": "code",
      "execution_count": null,
      "metadata": {
        "id": "55wtedsbIB1G"
      },
      "outputs": [],
      "source": [
        "### SEU CÓDIGO COMEÇA AQUI ###\n",
        "\n",
        "num = [1, 1, 1, 1, 1, 1, 1];\n",
        "den = [7, 0, 0, 0, 0, 0, 0];\n",
        "\n",
        "sys2 = signal.dlti(num, den);\n",
        "w2, mag2, phase2 = signal.dbode (sys2); #Transforma pro dominio Z atraves do Bode\n",
        "a, b = signal.dstep(sys2)\n",
        "z1, p1, k1 = signal.tf2zp\n",
        "\n",
        "#bode modulo\n",
        "plt.figure(figsize=(10,2))\n",
        "plt.semilogx(w1, mag1)\n",
        "#plt.xlim(10**(-2),1)\n",
        "plt.xlabel(\"frequencias (Hz)\")\n",
        "plt.ylabel(\"$|X[k]|$\")\n",
        "plt.title(\"Diagrama de Bode - Módulo\")\n",
        "plt.grid(1);\n",
        "\n",
        "#bode Fase\n",
        "plt.figure(figsize=(10,2))\n",
        "plt.ylabel(\"$\\measuredangle X[k]$ (°)\")\n",
        "plt.xlabel(\"frequencia (Hz)\")\n",
        "plt.title(\"Diagrama de Bode - Fase\")\n",
        "plt.semilogx(w1, phase1)\n",
        "plt.grid(1);\n",
        "\n",
        "### FIM DO CÓDIGO ###"
      ]
    },
    {
      "cell_type": "markdown",
      "metadata": {
        "id": "8WPQbfpYIB1G"
      },
      "source": [
        "**Saída esperada**:\n",
        "1. Diagrama de Bode do **sistema de diferenças regressivas**\n",
        "1. Resposta ao degrau\n",
        "1. Constelação de polos e zeros"
      ]
    },
    {
      "cell_type": "code",
      "execution_count": null,
      "metadata": {
        "id": "vjugjOx8IB1G"
      },
      "outputs": [],
      "source": [
        "### SEU CÓDIGO COMEÇA AQUI ###\n",
        "num2 = [1, 1, 1, 1, 1, 1, 1];\n",
        "den2 = [7, 0, 0, 0, 0, 0, 0];\n",
        "\n",
        "sys2 = signal.dlti(num, den);\n",
        "w2, mag2, phase2 = signal.dbode (sys2); #Transforma pro dominio Z atraves do Bode\n",
        "a, b = signal.dstep(sys2)\n",
        "z1, p1, k1 = signal.tf2zp\n",
        "\n",
        "#bode modulo\n",
        "plt.figure(figsize=(10,2))\n",
        "plt.semilogx(w1, mag1)\n",
        "#plt.xlim(10**(-2),1)\n",
        "plt.xlabel(\"frequencias (Hz)\")\n",
        "plt.ylabel(\"$|X[k]|$\")\n",
        "plt.title(\"Diagrama de Bode - Módulo\")\n",
        "plt.grid(1);\n",
        "\n",
        "#bode Fase\n",
        "plt.figure(figsize=(10,2))\n",
        "plt.ylabel(\"$\\measuredangle X[k]$ (°)\")\n",
        "plt.xlabel(\"frequencia (Hz)\")\n",
        "plt.title(\"Diagrama de Bode - Fase\")\n",
        "plt.semilogx(w1, phase1)\n",
        "plt.grid(1);\n",
        "### FIM DO CÓDIGO ###"
      ]
    },
    {
      "cell_type": "markdown",
      "metadata": {
        "id": "-5kHtu51IB1H"
      },
      "source": [
        "**Saída esperada**:\n",
        "1. Diagrama de Bode do **sistema média móvel causal**\n",
        "1. Resposta ao degrau\n",
        "1. Constelação de polos e zeros"
      ]
    },
    {
      "cell_type": "code",
      "execution_count": null,
      "metadata": {
        "id": "FnZeSj1PIB1J"
      },
      "outputs": [],
      "source": [
        "### SEU CÓDIGO COMEÇA AQUI ###\n",
        "...\n",
        "### FIM DO CÓDIGO ###"
      ]
    },
    {
      "cell_type": "markdown",
      "metadata": {
        "id": "eC9DzEVEIB1K"
      },
      "source": [
        "**Saída esperada**:\n",
        "1. Diagrama de Bode do **sistema média móvel não causal**\n",
        "1. Resposta ao degrau\n",
        "1. Constelação de polos e zeros\n",
        "---\n",
        "\n",
        "## Passando os dados pelos sistemas\n",
        "\n",
        "Abaixo, passe os dados de morte por covid pelos três sistemas implementados. Faça os seguinte gráficos:\n",
        "1. Compare o sinal, no domínio do tempo, antes e após passar pelo sistema\n",
        "1. Compare o módulo da FFT do sinal, no domínio do frequência, antes e após passar pelo sistema"
      ]
    },
    {
      "cell_type": "code",
      "execution_count": null,
      "metadata": {
        "id": "Scx3Muu-IB1L"
      },
      "outputs": [],
      "source": [
        "### SEU CÓDIGO COMEÇA AQUI ###\n",
        "...\n",
        "### FIM DO CÓDIGO ###"
      ]
    },
    {
      "cell_type": "markdown",
      "metadata": {
        "id": "PWRA_PSoIB1M"
      },
      "source": [
        "**Saída esperada**:\n",
        "1. Gráfico no domínio do tempo da entrada e saída de cada sistema sistema\n",
        "1. Gráfico de FFT entrada e saída de cada sistema sistema"
      ]
    },
    {
      "cell_type": "code",
      "execution_count": null,
      "metadata": {
        "id": "OI2k1DjrIB1N"
      },
      "outputs": [],
      "source": [
        "### SEU CÓDIGO COMEÇA AQUI ###\n",
        "...\n",
        "### FIM DO CÓDIGO ###"
      ]
    },
    {
      "cell_type": "markdown",
      "metadata": {
        "id": "3mvayHvRIB1N"
      },
      "source": [
        "**Saída esperada**:\n",
        "1. Gráfico no domínio do tempo da entrada e saída de cada sistema sistema\n",
        "1. Gráfico de FFT entrada e saída de cada sistema sistema"
      ]
    },
    {
      "cell_type": "code",
      "execution_count": null,
      "metadata": {
        "id": "4m0WJKhxIB1N"
      },
      "outputs": [],
      "source": [
        "### SEU CÓDIGO COMEÇA AQUI ###\n",
        "...\n",
        "### FIM DO CÓDIGO ###"
      ]
    },
    {
      "cell_type": "markdown",
      "metadata": {
        "id": "u3A9koG4IB1O"
      },
      "source": [
        "**Saída esperada**:\n",
        "1. Gráfico no domínio do tempo da entrada e saída de cada sistema sistema\n",
        "1. Gráfico de FFT entrada e saída de cada sistema sistema\n",
        "___\n",
        "\n",
        "# Concluões\n",
        "\n",
        "**1 - O sistema média móvel pode ser classificado como qual tipo de filtro? Justifique baseado no gráfico apresentado de resposta em frequência do sistema.**"
      ]
    },
    {
      "cell_type": "markdown",
      "metadata": {
        "id": "InmFj7FVIB1O"
      },
      "source": [
        "**Resposta:**\n",
        "\n",
        "`[escreva aqui sua resposta]`"
      ]
    },
    {
      "cell_type": "markdown",
      "metadata": {
        "id": "0TpNAdJ9IB1O"
      },
      "source": [
        "**2 - O sistema de diferenças regressivas pode ser classificado como qual tipo de filtro? Justifique baseado no gráfico apresentado de resposta em frequência do sistema.**"
      ]
    },
    {
      "cell_type": "markdown",
      "metadata": {
        "id": "ttvSJSzRIB1O"
      },
      "source": [
        "**Resposta:**\n",
        "\n",
        "`[escreva aqui sua resposta]`"
      ]
    },
    {
      "cell_type": "markdown",
      "metadata": {
        "id": "Q0upXsk9IB1P"
      },
      "source": [
        "______________\n",
        "\n",
        "# Desafio (opcional)\n",
        "\n",
        "Esta é uma atividade exploratória. Use os seus conhecimentos (e também de pesquisas na internet) sobre processamento de sinais discretos para comparar os números da covid no Brasil com outros países do mundo, como a média mundial, referências de outros países do mesmo \"bloco\", do mesmo continente, etc. Use livremente seus conhecimentos sobre processamento de sinais para extrair informações interessantes dos dados da covid. Mostre e comente abaixo resultados interessantes que tenha extraído."
      ]
    },
    {
      "cell_type": "code",
      "execution_count": null,
      "metadata": {
        "id": "KAOM8hzuIB1P"
      },
      "outputs": [],
      "source": [
        "### SEU CÓDIGO COMEÇA AQUI ###\n",
        "...\n",
        "### FIM DO CÓDIGO ###"
      ]
    },
    {
      "cell_type": "markdown",
      "metadata": {
        "id": "Qs0Epk7mIB1P"
      },
      "source": [
        "Bom trabalho :c)"
      ]
    }
  ],
  "metadata": {
    "@webio": {
      "lastCommId": null,
      "lastKernelId": null
    },
    "kernelspec": {
      "display_name": "Python 3",
      "language": "python",
      "name": "python3"
    },
    "language_info": {
      "codemirror_mode": {
        "name": "ipython",
        "version": 3
      },
      "file_extension": ".py",
      "mimetype": "text/x-python",
      "name": "python",
      "nbconvert_exporter": "python",
      "pygments_lexer": "ipython3",
      "version": "3.6.15"
    },
    "toc": {
      "base_numbering": 1,
      "nav_menu": {
        "height": "228px",
        "width": "370px"
      },
      "number_sections": true,
      "sideBar": true,
      "skip_h1_title": false,
      "title_cell": "Table of Contents",
      "title_sidebar": "Contents",
      "toc_cell": false,
      "toc_position": {},
      "toc_section_display": true,
      "toc_window_display": false
    },
    "varInspector": {
      "cols": {
        "lenName": 16,
        "lenType": 16,
        "lenVar": 40
      },
      "kernels_config": {
        "python": {
          "delete_cmd_postfix": "",
          "delete_cmd_prefix": "del ",
          "library": "var_list.py",
          "varRefreshCmd": "print(var_dic_list())"
        },
        "r": {
          "delete_cmd_postfix": ") ",
          "delete_cmd_prefix": "rm(",
          "library": "var_list.r",
          "varRefreshCmd": "cat(var_dic_list()) "
        }
      },
      "types_to_exclude": [
        "module",
        "function",
        "builtin_function_or_method",
        "instance",
        "_Feature"
      ],
      "window_display": false
    },
    "colab": {
      "provenance": []
    }
  },
  "nbformat": 4,
  "nbformat_minor": 0
}