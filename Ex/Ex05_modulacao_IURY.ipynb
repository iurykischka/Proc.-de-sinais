{
  "cells": [
    {
      "cell_type": "markdown",
      "metadata": {
        "id": "s2gNl_xlo_dh"
      },
      "source": [
        "<a href=\"https://colab.research.google.com/github/ifmg-betim/2022.2_AUT.040_ProcSin/blob/main/Ex/Ex05_modulacao_SEU_NOME.ipynb\" target=\"_parent\"><img src=\"https://colab.research.google.com/assets/colab-badge.svg\" alt=\"Open In Colab\"/></a>"
      ]
    },
    {
      "cell_type": "markdown",
      "metadata": {
        "id": "VK9DAgn0o_dk"
      },
      "source": [
        "# Ex05 - `Iury Kischka Mendes` - `0040411`\n",
        "\n",
        "(De)Modulação e (De)Multiplexação.\n",
        "\n",
        "**HONESTIDADE ACADÊMICA**\n",
        "\n",
        "Todo o trabalho feito no sentido do cumprimento das expectativas deste curso deve ser exclusivamente seu. A colaboração de terceiros na realização dos trabalhos não é permitida.\n",
        "\n",
        "Ver ou copiar o trabalho de outro indivíduo do curso ou retirar material de um livro, site ou outra fonte, mesmo em parte e apresentá-lo como seu próprio constitui desonestidade acadêmica, assim como mostrar ou dar a sua obra, mesmo em parte, a outro estudante. Da mesma forma, é desonestidade acadêmica fornecer ou tornar as soluções disponíveis dos trabalhos para os indivíduos que fazem ou poderão fazer este curso no futuro. Você está convidado a discutir o material do curso com os outros, a fim de melhor compreendê-lo. Você pode até discutir sobre os trabalhos com os colegas, mas você não pode compartilhar códigos, funções, projetos, tabelas, desenhos esquemáticos, mapas ou diagramas.\n",
        "\n",
        "Você pode e deve recorrer à Web para obter referências na busca de soluções para os trabalhos, mas não por soluções definitivas para os problemas. No entanto, deve-se citar explicitamente no projeto a origem de qualquer procedimento ou técnica que você descubra fora do curso.\n",
        "\n",
        "Todas as formas de desonestidade acadêmica são tratadas com rigor.\n",
        "\n",
        "**Instruções:**\n",
        "- Não apague os comentários existentes, mas você pode adicionar outros comentários.\n",
        "- Ao representar sinais na frequência sugiro não usar amplitude em dB não e também não é obrigatório representar a \"fase\" do sinal\n",
        "- Ao representar sistemas, deve-se representar o diagrama de Bode, com módulo e fase\n",
        "\n",
        "**Objetivos**\n",
        "- Implementar (de)modulação e (de)multiplexação de sinais"
      ]
    },
    {
      "cell_type": "markdown",
      "metadata": {
        "id": "QaMP8jPDo_dl"
      },
      "source": [
        "# Insira seu RA\n",
        "\n",
        "<mark>**Faça:** escreva seu RA na variável `RA` abaixo.</mark>\n",
        "\n",
        "*Obs.: não inclua os zeros à esquerda do RA não! E não use nenhuma outra variável com nome `RA`.*"
      ]
    },
    {
      "cell_type": "code",
      "execution_count": null,
      "metadata": {
        "id": "8Sckiznjo_dm"
      },
      "outputs": [],
      "source": [
        "### SEU CÓDIGO COMEÇA AQUI ### (≈ 1 linha de código)\n",
        "RA = ...\n",
        "### FIM DO CÓDIGO ###"
      ]
    },
    {
      "cell_type": "markdown",
      "metadata": {
        "id": "3xEuieH0o_dn"
      },
      "source": [
        "# Interceptando um sinal de um navio espião\n",
        "\n",
        "Neste trabalho você tem um desafio: projetar um sistema para decodificar um sinal.\n",
        "\n",
        "<img src=\"https://cloudfront-us-east-1.images.arcpublishing.com/archetype/IUG2BXYAWNGAPAAE7MOBQZW6RI.jpg\" alt=\"circuito\" width=\"300\"/>\n",
        "\n",
        "Foi detectado e gravado um sinal transmitido pelo navio acima. Informações da agência secreta dizem que o sinal gravado contém um código importante que precisa ser interpretado. Sabe-se também que o sinal original é sonoro, com banda 1500 Hz, e que o navio só consegue transmitir sinais AM-DSB em frequências inferiores a 22 kHz (era um navio antigo...).\n",
        "\n",
        "<mark>**Faça:** rode o código abaixo para obter o sinal interceptado e ouça o sinal.</mark>"
      ]
    },
    {
      "cell_type": "code",
      "execution_count": null,
      "metadata": {
        "id": "e4AvAC73o_dn"
      },
      "outputs": [],
      "source": [
        "import numpy as np, scipy as sp, matplotlib.pyplot as plt, IPython.display as ipd, requests\n",
        "arq = requests.get('https://github.com/ifmg-betim/2022.2_AUT.040_ProcSin/raw/main/Ex/Ex05_codigo.py')\n",
        "open(\"Ex05_codigo.py\", \"wb\").write(arq.content); del arq;\n",
        "import Ex05_codigo\n",
        "\n",
        "sinal, fs = Ex05_codigo.capturaSinalSecreto(RA)\n",
        "\n",
        "ipd.Audio(sinal, rate=fs, normalize=True)"
      ]
    },
    {
      "cell_type": "markdown",
      "metadata": {
        "id": "0jusZGI9o_do"
      },
      "source": [
        "___\n",
        "No código acima, o sinal interceptado está na variável `sinal` e a variável `fs` contém a frequência de amostragem em Hz. Lembre-se da relação entre período de amostragem $T$ e frequência de amostragem $f_s$, conforme abaixo:\n",
        "$$T = \\frac{1}{f_s} .$$\n",
        "Essa relação será útil para você montar o vetor tempo e apresentar o sinal.\n",
        "\n",
        "<mark>**Faça:** usando procedimentos adequados, mostre abaixo o gráfico do sinal interceptado no domínio do tempo.</mark>"
      ]
    },
    {
      "cell_type": "code",
      "execution_count": null,
      "metadata": {
        "run_control": {
          "marked": false
        },
        "id": "QBXk-aaGo_dp"
      },
      "outputs": [],
      "source": [
        "### SEU CÓDIGO COMEÇA AQUI ###\n",
        "...\n",
        "### SEU CÓDIGO TERMINA AQUI ###"
      ]
    },
    {
      "cell_type": "markdown",
      "metadata": {
        "id": "9ztfUadgo_dp"
      },
      "source": [
        "___\n",
        "Como visto em aula, o domínio da frequência é muito útil para analisarmos sinais e algumas propriedades de interesse. É o que faremos agora. Sugiro não usar escala logarítmica de frequências e nem colocar a amplitude em dB não.\n",
        "\n",
        "<mark>**Faça:** usando procedimentos adequados, mostre abaixo o sinal interceptado no domínio da frequência.</mark>"
      ]
    },
    {
      "cell_type": "code",
      "execution_count": null,
      "metadata": {
        "run_control": {
          "marked": false
        },
        "id": "aDKYxmMuo_dq"
      },
      "outputs": [],
      "source": [
        "### SEU CÓDIGO COMEÇA AQUI ###\n",
        "...\n",
        "### SEU CÓDIGO TERMINA AQUI ###"
      ]
    },
    {
      "cell_type": "code",
      "execution_count": null,
      "metadata": {
        "run_control": {
          "marked": false
        },
        "id": "hOrLYdOAo_dr"
      },
      "outputs": [],
      "source": [
        "### SEU CÓDIGO COMEÇA AQUI ###\n",
        "...\n",
        "### SEU CÓDIGO TERMINA AQUI ###"
      ]
    },
    {
      "cell_type": "markdown",
      "metadata": {
        "id": "94VAfmwco_dr"
      },
      "source": [
        "___\n",
        "Agora, analise o sinal obtido no domínio da frequência. Sabemos que ali contém uma mensagem codificada em alguma forma de modulação. Descubra o tipo de modulação que foi utilizada e a frequência da portadora. No seu código, gere figuras com tamanho e ampliação adequadas que evidenciem qual a frequência da portadora do sinal e qual o tipo de modulação que foi utilizado.\n",
        "\n",
        "<mark>**Faça:** usando procedimentos adequados, gere figuras que evidenciem o tipo de modulação e frequência utilizada. As figuras geradas no código abaixo servem para embasar sua reposta da próxima pergunta abaixo na sequência.</mark>"
      ]
    },
    {
      "cell_type": "code",
      "execution_count": null,
      "metadata": {
        "run_control": {
          "marked": false
        },
        "id": "-5Z-j8u7o_dr"
      },
      "outputs": [],
      "source": [
        "### SEU CÓDIGO COMEÇA AQUI ###\n",
        "...\n",
        "### SEU CÓDIGO TERMINA AQUI ###"
      ]
    },
    {
      "cell_type": "markdown",
      "metadata": {
        "id": "EwG8f0Rao_ds"
      },
      "source": [
        "___\n",
        "<mark>**Faça:** responda às questões abaixo.</mark>\n",
        "\n",
        "**1. Qual o tipo de modulação utilizado? Justifique baseado no gráfico gerado acima.**"
      ]
    },
    {
      "cell_type": "markdown",
      "metadata": {
        "id": "Xcx0H2y4o_ds"
      },
      "source": [
        "**Resposta:**\n",
        "\n",
        "`[escreva aqui sua resposta]`"
      ]
    },
    {
      "cell_type": "markdown",
      "metadata": {
        "id": "1NTWugQXo_ds"
      },
      "source": [
        "**2. Qual a frequência de modulação? Justifique baseado no gráfico gerado acima.**"
      ]
    },
    {
      "cell_type": "markdown",
      "metadata": {
        "id": "rVnrclMDo_ds"
      },
      "source": [
        "**Resposta:**\n",
        "\n",
        "`[escreva aqui sua resposta]`"
      ]
    },
    {
      "cell_type": "markdown",
      "metadata": {
        "id": "V2z-d76bo_dt"
      },
      "source": [
        "**3. Como você vai decodificar o sinal? Explique textualmente, com o máximo de detalhes possível, todos os passos a serem utilizados para obter os sinal transmitido.**"
      ]
    },
    {
      "cell_type": "markdown",
      "metadata": {
        "id": "kd8RnnhBo_dt"
      },
      "source": [
        "**Resposta:**\n",
        "\n",
        "`[escreva aqui sua resposta]`"
      ]
    },
    {
      "cell_type": "markdown",
      "metadata": {
        "id": "v2w8Xs8go_dt"
      },
      "source": [
        "___\n",
        "# Decodificando o sinal\n",
        "\n",
        "Use as células abaixo para projetar um sistema que faça a decodificação do sinal de acordo com o tipo de modulação e a frequência de portadora indentificada. Você pode usar qualquer uma das técnicas abordadas na disciplina (filtragem, demodulação, demultiplexação, etc.), mas atenção para as regras abaixo.\n",
        "\n",
        "**REGRAS DE PROJETO**:\n",
        "1. Só podem ser utilizados sistemas analógicos implementáveis na prática. Isso exclui, por exemplo, filtros ideais ou sistemas não causais.\n",
        "1. Ao projetar filtros, é obrigatório mostrar o diagrama de Bode (amplitude em dB e escala logaritmica no eixo de frequências, em Hz) do filtro, com tamanho `figsize=(10,4)`, e, no mesmo gráfico, o ***sombreamento referente às especificações do filtro***. Você mesmo deve determinar as especificações de modo a atender o problema e também escolher o tipo de filtro a ser implementado. **ATENÇÃO**: filtros de ordem superiores a 7 demoram para rodar. Tente não usar filtros de ordem elevada.\n",
        "1. Ao passar um sinal por um sistema (filtro, (de)modulador, (de)multiplexador, etc.), é obrigatório mostrar, num mesmo gráfico com tamanho `figsize=(10,1.5)`, o módulo da FFT do sinal antes e após o processo de filtragem. Mostrar a fase de sinais é facultativo. Sugere-se não representar o sinal em dB.\n",
        "1. Nesta parte do trabalho você pode usar **até cinco células de código para cada uma das subseções abaixo**. Não é necessário mais que isso, mas você pode usar menos (apague as vazias nesse caso).\n",
        "1. Todos os gráficos devem ter rótulos nos eixos e escala de ampliação adequada!\n",
        "1. Organize seu código com comentários\n",
        "\n",
        "<mark>**Faça:** usando procedimentos adequados, decodifique o sinal. Ao final, você deve mostrar o sinal decodificado no domínio do tempo E no domínio da frequência.</mark>"
      ]
    },
    {
      "cell_type": "code",
      "execution_count": null,
      "metadata": {
        "run_control": {
          "marked": false
        },
        "id": "oQ5qiAbvo_dt"
      },
      "outputs": [],
      "source": [
        "### SEU CÓDIGO COMEÇA AQUI ###\n",
        "...\n",
        "### SEU CÓDIGO TERMINA AQUI ###"
      ]
    },
    {
      "cell_type": "code",
      "execution_count": null,
      "metadata": {
        "run_control": {
          "marked": false
        },
        "id": "X2JehwEDo_du"
      },
      "outputs": [],
      "source": [
        "### SEU CÓDIGO COMEÇA AQUI ###\n",
        "...\n",
        "### SEU CÓDIGO TERMINA AQUI ###"
      ]
    },
    {
      "cell_type": "code",
      "execution_count": null,
      "metadata": {
        "run_control": {
          "marked": false
        },
        "id": "PWRSQ5mao_du"
      },
      "outputs": [],
      "source": [
        "### SEU CÓDIGO COMEÇA AQUI ###\n",
        "...\n",
        "### SEU CÓDIGO TERMINA AQUI ###"
      ]
    },
    {
      "cell_type": "code",
      "execution_count": null,
      "metadata": {
        "run_control": {
          "marked": false
        },
        "id": "qBlfBVuLo_du"
      },
      "outputs": [],
      "source": [
        "### SEU CÓDIGO COMEÇA AQUI ###\n",
        "...\n",
        "### SEU CÓDIGO TERMINA AQUI ###"
      ]
    },
    {
      "cell_type": "code",
      "execution_count": null,
      "metadata": {
        "run_control": {
          "marked": false
        },
        "id": "OjWwxnFJo_du"
      },
      "outputs": [],
      "source": [
        "### SEU CÓDIGO COMEÇA AQUI ###\n",
        "...\n",
        "### SEU CÓDIGO TERMINA AQUI ###"
      ]
    },
    {
      "cell_type": "markdown",
      "metadata": {
        "id": "x1bMUGiPo_du"
      },
      "source": [
        "___\n",
        "Espera-se que, nessa etapa, você já tenha o sinal decodificado. Atribua o sinal decodificado e recuperado na variável `sinal_rec` abaixo. Em seguida, execute o código e ouça o sinal recuperado no player abaixo.\n",
        "\n",
        "\n",
        "<mark>**Faça:** Atribua o sinal decodificado e recuperado na variável `sinal_rec` e ouça a mensagem do navio.</mark>"
      ]
    },
    {
      "cell_type": "code",
      "execution_count": null,
      "metadata": {
        "id": "nyQRC740o_dv"
      },
      "outputs": [],
      "source": [
        "### SEU CÓDIGO COMEÇA AQUI ### ()\n",
        "sinal_rec = ...\n",
        "### SEU CÓDIGO TERMINA AQUI ###\n",
        "\n",
        "ipd.Audio(sinal_rec, rate=fs, normalize=True)"
      ]
    },
    {
      "cell_type": "markdown",
      "metadata": {
        "id": "2-6K6075o_dv"
      },
      "source": [
        "___\n",
        "<mark>**Faça:** responda à questão abaixo.</mark>\n",
        "\n",
        "**4. O que diz a mensagem transmitida?**"
      ]
    },
    {
      "cell_type": "markdown",
      "metadata": {
        "id": "szSGzUWmo_dv"
      },
      "source": [
        "**Resposta:**\n",
        "\n",
        "`[escreva aqui sua resposta]`"
      ]
    },
    {
      "cell_type": "markdown",
      "metadata": {
        "id": "J6zkzdalo_dv"
      },
      "source": [
        "____\n",
        "\n",
        "# Desafio: enganando o receptor da mensagem (não é obrigatório!)\n",
        "\n",
        "**Modulação/Multiplexação**. Para tentar enganar o receptor da mensagem, pegue a mensagem decodificada no trabalho, altere a mensagem (invertendo as mensagens, por exemplo) e faça a modulação na mesma frequência de portadora. Explique textualmente os sistemas utilizados e mostre todos os sinais. Use quantas células quiser.\n",
        "\n",
        "`[escreva aqui o que foi feito na alteração da mensagem, modulação, filtragem, etc...]`"
      ]
    },
    {
      "cell_type": "code",
      "execution_count": null,
      "metadata": {
        "run_control": {
          "marked": false
        },
        "id": "Su0kbA47o_dv"
      },
      "outputs": [],
      "source": [
        "### SEU CÓDIGO COMEÇA AQUI ###\n",
        "None\n",
        "### SEU CÓDIGO TERMINA AQUI ###"
      ]
    },
    {
      "cell_type": "markdown",
      "metadata": {
        "id": "fi5br332o_dv"
      },
      "source": [
        "Parabéns por ter completado o trabalho :c)"
      ]
    }
  ],
  "metadata": {
    "@webio": {
      "lastCommId": null,
      "lastKernelId": null
    },
    "kernelspec": {
      "display_name": "Python 3",
      "language": "python",
      "name": "python3"
    },
    "language_info": {
      "codemirror_mode": {
        "name": "ipython",
        "version": 3
      },
      "file_extension": ".py",
      "mimetype": "text/x-python",
      "name": "python",
      "nbconvert_exporter": "python",
      "pygments_lexer": "ipython3",
      "version": "3.6.15"
    },
    "toc": {
      "base_numbering": 1,
      "nav_menu": {
        "height": "228px",
        "width": "370px"
      },
      "number_sections": true,
      "sideBar": true,
      "skip_h1_title": false,
      "title_cell": "Table of Contents",
      "title_sidebar": "Contents",
      "toc_cell": false,
      "toc_position": {},
      "toc_section_display": true,
      "toc_window_display": false
    },
    "varInspector": {
      "cols": {
        "lenName": 16,
        "lenType": 16,
        "lenVar": 40
      },
      "kernels_config": {
        "python": {
          "delete_cmd_postfix": "",
          "delete_cmd_prefix": "del ",
          "library": "var_list.py",
          "varRefreshCmd": "print(var_dic_list())"
        },
        "r": {
          "delete_cmd_postfix": ") ",
          "delete_cmd_prefix": "rm(",
          "library": "var_list.r",
          "varRefreshCmd": "cat(var_dic_list()) "
        }
      },
      "types_to_exclude": [
        "module",
        "function",
        "builtin_function_or_method",
        "instance",
        "_Feature"
      ],
      "window_display": false
    },
    "colab": {
      "provenance": []
    }
  },
  "nbformat": 4,
  "nbformat_minor": 0
}