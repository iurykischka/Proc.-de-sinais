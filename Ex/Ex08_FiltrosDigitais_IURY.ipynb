{
  "cells": [
    {
      "cell_type": "markdown",
      "metadata": {
        "id": "view-in-github",
        "colab_type": "text"
      },
      "source": [
        "<a href=\"https://colab.research.google.com/github/iurykischka/Proc.-de-sinais/blob/master/Ex/Ex08_FiltrosDigitais_IURY.ipynb\" target=\"_parent\"><img src=\"https://colab.research.google.com/assets/colab-badge.svg\" alt=\"Open In Colab\"/></a>"
      ]
    },
    {
      "cell_type": "markdown",
      "metadata": {
        "id": "uI-kXZ8g7AGt"
      },
      "source": [
        "# Ex08 - `[seu nome] (RA)`\n",
        "\n",
        "Filtros digitais.\n",
        "\n",
        "**HONESTIDADE ACADÊMICA**\n",
        "\n",
        "Todo o trabalho feito no sentido do cumprimento das expectativas deste curso deve ser exclusivamente seu. A colaboração de terceiros na realização dos trabalhos não é permitida.\n",
        "\n",
        "Ver ou copiar o trabalho de outro indivíduo do curso ou retirar material de um livro, site ou outra fonte, mesmo em parte e apresentá-lo como seu próprio constitui desonestidade acadêmica, assim como mostrar ou dar a sua obra, mesmo em parte, a outro estudante. Da mesma forma, é desonestidade acadêmica fornecer ou tornar as soluções disponíveis dos trabalhos para os indivíduos que fazem ou poderão fazer este curso no futuro. Você está convidado a discutir o material do curso com os outros, a fim de melhor compreendê-lo. Você pode até discutir sobre os trabalhos com os colegas, mas você não pode compartilhar códigos, funções, projetos, tabelas, desenhos esquemáticos, mapas ou diagramas.\n",
        "\n",
        "Você pode e deve recorrer à Web para obter referências na busca de soluções para os trabalhos, mas não por soluções definitivas para os problemas. No entanto, deve-se citar explicitamente no projeto a origem de qualquer procedimento ou técnica que você descubra fora do curso.\n",
        "\n",
        "Todas as formas de desonestidade acadêmica são tratadas com rigor.\n",
        "\n",
        "\n",
        "**Instruções:**\n",
        "- Não apague os comentários que já existem nas células de código. Mas é claro que você pode adicionar outros comentários.\n",
        "- Não inclua mais células do que o especificado e mantenha a organização.\n",
        "- Use `plt.figure(figsize=(10,1))` para ajustar o tamanho das figuras e sempre coloque rótulos.\n",
        "\n",
        "**Objetivos**\n",
        "- Implementar e analisar filtros FIR digitais\n",
        "- Implementar e analisar filtros IIR digitais "
      ]
    },
    {
      "cell_type": "markdown",
      "metadata": {
        "id": "bDNXxULM7AGz"
      },
      "source": [
        "## Registre o seu RA\n",
        "\n",
        "Primeiro, registre o seu RA na variável indicada.\n",
        "\n",
        "\n",
        "<mark>**Fazer:** Escreva o seu RA na variável `RA`.</mark>"
      ]
    },
    {
      "cell_type": "code",
      "execution_count": null,
      "metadata": {
        "id": "TABDuThJ7AG2"
      },
      "outputs": [],
      "source": [
        "### SEU CÓDIGO COMEÇA AQUI ###\n",
        "RA = None\n",
        "### FIM DO CÓDIGO ###\n",
        "print(RA)"
      ]
    },
    {
      "cell_type": "markdown",
      "metadata": {
        "id": "thx-bFux7AG5"
      },
      "source": [
        "**Saída esperada**:\n",
        "1. Seu número de RA\n",
        "---"
      ]
    },
    {
      "cell_type": "markdown",
      "metadata": {
        "id": "sKCzsC8D7AG6"
      },
      "source": [
        "## O problema\n",
        "\n",
        "Nesta atividade, você vai projetar e implementar filtros digitais FIR e IIR. Os filtros projetados serão usados em sinais de áudio (são os mesmo arquivos usados no Ex02).\n",
        "\n",
        "<mark> **Faça**</mark>: execute o código abaixo para carregar os áudios."
      ]
    },
    {
      "cell_type": "code",
      "execution_count": null,
      "metadata": {
        "run_control": {
          "marked": false
        },
        "id": "X8DOs0HQ7AG7"
      },
      "outputs": [],
      "source": [
        "# Importa bibliotecas\n",
        "import numpy as np, scipy as sp, matplotlib.pyplot as plt, IPython.display as ipd\n",
        "from scipy.io import wavfile\n",
        "from scipy import signal\n",
        "import requests\n",
        "\n",
        "# Som do diapasão\n",
        "response = requests.get('https://github.com/ifmg-betim/2022.2_AUT.040_ProcSin/blob/main/Ex/Ex02_diapasao.wav?raw=true')\n",
        "open(\"diapasao.wav\", \"wb\").write(response.content)\n",
        "fs, diapasao = wavfile.read('diapasao.wav')\n",
        "diapasao = diapasao[:90000] # sinal do diapasão\n",
        "diapasao_i = (diapasao-np.mean(diapasao))/np.std(diapasao)\n",
        "\n",
        "response = requests.get('https://github.com/ifmg-betim/2022.2_AUT.040_ProcSin/blob/main/Ex/Ex02_flauta.wav?raw=true')\n",
        "open(\"flauta.wav\", \"wb\").write(response.content)\n",
        "fs, flauta = wavfile.read('flauta.wav')\n",
        "flauta = flauta[:90000] # sinal da flauta\n",
        "flauta_i = (flauta-np.mean(flauta))/np.std(flauta)\n",
        "\n",
        "response = requests.get('https://github.com/ifmg-betim/2022.2_AUT.040_ProcSin/blob/main/Ex/Ex02_cello.wav?raw=true')\n",
        "open(\"cello.wav\", \"wb\").write(response.content)\n",
        "fs, cello = wavfile.read('cello.wav')\n",
        "cello = cello[10000:100000,0] # sinal do violoncelo\n",
        "cello_i = (cello-np.mean(cello))/np.std(cello)\n",
        "\n",
        "# vetor tempo\n",
        "tempo = np.arange(len(diapasao))/fs # variável TEMPO (em segundos)\n",
        "N = len(tempo) #tamanho do sinal\n",
        "n = np.arange(N) #vetor de amostras\n",
        "np.random.seed(RA)\n",
        "r = np.dot(np.random.uniform(.01, .05, 100), np.sin(np.random.uniform(2e3, fs/2,100).reshape((100,1))\n",
        "                                          *2*np.pi*tempo+np.random.uniform(0, np.pi, (100,1))) )\n",
        "diapasao = diapasao_i + r\n",
        "flauta = flauta_i + r\n",
        "cello = cello_i + r"
      ]
    },
    {
      "cell_type": "markdown",
      "metadata": {
        "id": "x0KLVYSn7AHE"
      },
      "source": [
        "## Sinais a serem analisado\n",
        "\n",
        "O código acima criou as variáveis abaixo para serem usadas:\n",
        "- `tempo`: vetor tempo apresentado na unidade \"segundos\", com frequência de amostragem de $f_s=44100$ Hz. Este vetor de tempo pode ser usado para os três sinais descritos abaixo.\n",
        "- `diapasao`: vetor com amplitude do sinal de áudio do diapasão.\n",
        "- `flauta`: vetor com amplitude do sinal de áudio da flauta.\n",
        "- `violoncelo`: vetor com amplitude do sinal de áudio do violoncelo.\n",
        "\n",
        "O código abaixo já implementa cada um dos sinais no domínio do tempo e um player para execução do áudio. Falta fazer a análise dos sinais no domínio da frequência.\n",
        "\n",
        "<mark> **Faça**</mark>: plote a FFT dos sinais abaixo, adicionando código nos espaços indicados. Cole na primeira célula a função criada para calcular a FFT do sinal."
      ]
    },
    {
      "cell_type": "code",
      "execution_count": null,
      "metadata": {
        "run_control": {
          "marked": false
        },
        "id": "RmVtYYzj7AHF"
      },
      "outputs": [],
      "source": [
        "### SEU CÓDIGO COMEÇA AQUI ### (função que implementa a FFT)\n",
        "None\n",
        "### FIM DO CÓDIGO ###"
      ]
    },
    {
      "cell_type": "markdown",
      "metadata": {
        "id": "eFF6cyO07AHH"
      },
      "source": [
        "### Diapasão"
      ]
    },
    {
      "cell_type": "code",
      "execution_count": null,
      "metadata": {
        "run_control": {
          "marked": false
        },
        "id": "-nbxOLLq7AHI"
      },
      "outputs": [],
      "source": [
        "plt.figure(figsize=(8,1.5))\n",
        "plt.plot(tempo, diapasao)\n",
        "plt.xlabel(\"tempo [s]\")\n",
        "plt.xlim((0,max(tempo)))\n",
        "plt.xlim((.6,.62));\n",
        "\n",
        "### SEU CÓDIGO COMEÇA AQUI ### (função que plota a FFT do sinal)\n",
        "None\n",
        "### FIM DO CÓDIGO ###\n",
        "\n",
        "ipd.Audio(diapasao, rate=fs, normalize=True)"
      ]
    },
    {
      "cell_type": "markdown",
      "metadata": {
        "id": "eFSx2JM87AHJ"
      },
      "source": [
        "### Flauta"
      ]
    },
    {
      "cell_type": "code",
      "execution_count": null,
      "metadata": {
        "run_control": {
          "marked": false
        },
        "id": "-INEg2r67AHJ"
      },
      "outputs": [],
      "source": [
        "plt.figure(figsize=(8,1.5))\n",
        "plt.plot(tempo, flauta)\n",
        "plt.xlabel(\"tempo (s)\")\n",
        "plt.xlim((0,max(tempo)))\n",
        "plt.xlim((.6,.62))\n",
        "\n",
        "### SEU CÓDIGO COMEÇA AQUI ### (função que plota a FFT do sinal)\n",
        "None\n",
        "### FIM DO CÓDIGO ###\n",
        "\n",
        "ipd.Audio(flauta, rate=fs, normalize=True)"
      ]
    },
    {
      "cell_type": "markdown",
      "metadata": {
        "id": "JscPUOo97AHJ"
      },
      "source": [
        "### Violoncelo"
      ]
    },
    {
      "cell_type": "code",
      "execution_count": null,
      "metadata": {
        "run_control": {
          "marked": false
        },
        "id": "5sU5UoI47AHK"
      },
      "outputs": [],
      "source": [
        "plt.figure(figsize=(8,1.5))\n",
        "plt.plot(tempo, cello)\n",
        "plt.xlabel(\"tempo \")\n",
        "plt.xlim((0,max(tempo)))\n",
        "plt.xlim((.6,.62))\n",
        "\n",
        "### SEU CÓDIGO COMEÇA AQUI ### (função que plota a FFT do sinal)\n",
        "None\n",
        "### FIM DO CÓDIGO ###\n",
        "\n",
        "ipd.Audio(cello, rate=fs, normalize=True)"
      ]
    },
    {
      "cell_type": "markdown",
      "metadata": {
        "id": "g0hcKpds7AHK"
      },
      "source": [
        "**Saída esperada**:\n",
        "1. Em cada trecho de código, espera-se o player do audio, o sinal no domínio do tempo e o sinal do domínio da frequência.\n",
        "---"
      ]
    },
    {
      "cell_type": "markdown",
      "metadata": {
        "id": "Qrj6FRY47AHK"
      },
      "source": [
        "## Projeto de filtro FIR\n",
        "\n",
        "Os sinais de áudio estão contaminados com ruído. Sabe-se que os conteúdos espectrais acima de 2,5 kHz podem ser filtrados, pois tratam-se de ruídos.\n",
        "\n",
        "<mark> **Faça**</mark>: Projete um **filtro FIR** para eliminar ruídos e use o filtro nos sinais.\n",
        "\n",
        "**ATENÇÃO**: se você chegou até aqui na disciplina, provavelmente já compreendeu os principais passos para *projeto de um filtro* e seu uso. Neste exercício, você tem autonomia para decidir o filtro mais adequado, seus parâmetros de projeto e as melhores formas de apresentar suas características. Não será dada nenhuma instrução específica de como apresentar os resultados, quais gráficos são importantes de serem analisados e nem como apresentar os sinais. Apresente da melhor forma possível, este item fará parte da avaliação."
      ]
    },
    {
      "cell_type": "code",
      "execution_count": null,
      "metadata": {
        "scrolled": false,
        "id": "KjOOZn997AHK"
      },
      "outputs": [],
      "source": [
        "### SEU CÓDIGO COMEÇA AQUI ### \n",
        "None\n",
        "### FIM DO CÓDIGO ###"
      ]
    },
    {
      "cell_type": "code",
      "execution_count": null,
      "metadata": {
        "id": "g-fcpjMI7AHL"
      },
      "outputs": [],
      "source": [
        "### SEU CÓDIGO COMEÇA AQUI ### \n",
        "None\n",
        "### FIM DO CÓDIGO ###"
      ]
    },
    {
      "cell_type": "code",
      "execution_count": null,
      "metadata": {
        "id": "cFji6n567AHL"
      },
      "outputs": [],
      "source": [
        "### SEU CÓDIGO COMEÇA AQUI ### \n",
        "None\n",
        "### FIM DO CÓDIGO ###"
      ]
    },
    {
      "cell_type": "code",
      "execution_count": null,
      "metadata": {
        "id": "kmzbBYpN7AHM"
      },
      "outputs": [],
      "source": [
        "### SEU CÓDIGO COMEÇA AQUI ### \n",
        "None\n",
        "### FIM DO CÓDIGO ###"
      ]
    },
    {
      "cell_type": "code",
      "execution_count": null,
      "metadata": {
        "id": "msJfkfMt7AHN"
      },
      "outputs": [],
      "source": [
        "### SEU CÓDIGO COMEÇA AQUI ### \n",
        "None\n",
        "### FIM DO CÓDIGO ###"
      ]
    },
    {
      "cell_type": "markdown",
      "metadata": {
        "id": "K6JMj2Jq7AHN"
      },
      "source": [
        "___\n",
        "## Projeto de filtro IIR\n",
        "\n",
        "Agora, projete um filtro IIR, usando a função `signal.iirdesign`, para realizar a mesma tarefa anterior: filtrar ruídos.\n",
        "\n",
        "<mark> **Faça**</mark>: Projete um **filtro IIR** usando a função `signal.iirdesign` para eliminar ruídos e use o filtro nos sinais."
      ]
    },
    {
      "cell_type": "code",
      "execution_count": null,
      "metadata": {
        "scrolled": false,
        "id": "9Rn026jj7AHN"
      },
      "outputs": [],
      "source": [
        "### SEU CÓDIGO COMEÇA AQUI ### \n",
        "None\n",
        "### FIM DO CÓDIGO ###"
      ]
    },
    {
      "cell_type": "code",
      "execution_count": null,
      "metadata": {
        "id": "2D9-_e0h7AHN"
      },
      "outputs": [],
      "source": [
        "### SEU CÓDIGO COMEÇA AQUI ### \n",
        "None\n",
        "### FIM DO CÓDIGO ###"
      ]
    },
    {
      "cell_type": "code",
      "execution_count": null,
      "metadata": {
        "id": "c6RPAAYU7AHO"
      },
      "outputs": [],
      "source": [
        "### SEU CÓDIGO COMEÇA AQUI ### \n",
        "None\n",
        "### FIM DO CÓDIGO ###"
      ]
    },
    {
      "cell_type": "code",
      "execution_count": null,
      "metadata": {
        "id": "1KG71ob27AHO"
      },
      "outputs": [],
      "source": [
        "### SEU CÓDIGO COMEÇA AQUI ### \n",
        "None\n",
        "### FIM DO CÓDIGO ###"
      ]
    },
    {
      "cell_type": "code",
      "execution_count": null,
      "metadata": {
        "id": "IC3p7wAe7AHO"
      },
      "outputs": [],
      "source": [
        "### SEU CÓDIGO COMEÇA AQUI ### \n",
        "None\n",
        "### FIM DO CÓDIGO ###"
      ]
    },
    {
      "cell_type": "markdown",
      "metadata": {
        "id": "YiNkZ21r7AHO"
      },
      "source": [
        "___\n",
        "## Sinais produzidos pelo filtro FIR vs IIR\n",
        "\n",
        "<mark> **Faça**</mark>: Usando a função `signal.lfilter`, filtre e compare os sinais produzidos pelo filtro FIR e pelo filtro IIR.\n",
        "\n",
        "***Como devo comparar?*** A decisão de como comparar os sinais também faz parte da avaliação. Lembre-se das principais diferenças construtivas entre filtros FIR e filtros IIR para determinar qual a melhor forma (gráfica) para ressaltar a diferença entre os sinais produzidos."
      ]
    },
    {
      "cell_type": "code",
      "execution_count": null,
      "metadata": {
        "id": "HbtOz3Fd7AHO"
      },
      "outputs": [],
      "source": [
        "### SEU CÓDIGO COMEÇA AQUI ### \n",
        "None\n",
        "### FIM DO CÓDIGO ###"
      ]
    },
    {
      "cell_type": "code",
      "execution_count": null,
      "metadata": {
        "id": "XrelvqyF7AHO"
      },
      "outputs": [],
      "source": [
        "### SEU CÓDIGO COMEÇA AQUI ### \n",
        "None\n",
        "### FIM DO CÓDIGO ###"
      ]
    },
    {
      "cell_type": "markdown",
      "metadata": {
        "id": "am8TyO087AHP"
      },
      "source": [
        "___\n",
        "\n",
        "# Concluões\n",
        "\n",
        "**1 - Quais as principais diferenças entre o atraso de grupo dos filtros FIR e IIR? Justifique mencionando explicitamente um gráfico produzido.**"
      ]
    },
    {
      "cell_type": "markdown",
      "metadata": {
        "id": "jxK-6Jt_7AHP"
      },
      "source": [
        "**Resposta:**\n",
        "\n",
        "`[escreva aqui sua resposta]`"
      ]
    },
    {
      "cell_type": "markdown",
      "metadata": {
        "id": "dEbyV_wq7AHP"
      },
      "source": [
        "**2 - Qual filtro teve maior ordem, FIR ou IIR?**"
      ]
    },
    {
      "cell_type": "markdown",
      "metadata": {
        "id": "KBeNjYj47AHQ"
      },
      "source": [
        "**Resposta:**\n",
        "\n",
        "`[escreva aqui sua resposta]`"
      ]
    },
    {
      "cell_type": "markdown",
      "metadata": {
        "id": "NbusY9Ux7AHQ"
      },
      "source": [
        "______________\n",
        "\n",
        "# Desafio (opcional)\n",
        "\n",
        "1. Compare a distorção na forma de onda provocada pelo filtro IIR em comparação com o filtro FIR.\n",
        "1. Compare a aplicação da função \"lfilter\" com a função \"filtfilt\" e explique a diferença entre elas.\n",
        "1. Faça projeto de um filtro Bessel e mostre suas principais características em comparação com os demais.\n",
        "1. Compare a FFT de um sinal com a FFT do sinal \"janelado\", usando diferentes janelas. Quais efeitos observados?"
      ]
    },
    {
      "cell_type": "markdown",
      "metadata": {
        "id": "xZ2tvHHp7AHQ"
      },
      "source": [
        "<p><a href=\"https://colab.research.google.com/github/ifmg-betim/2022.2_AUT.040_ProcSin/blob/main/Ex/Ex08_FiltrosDigitais_SEU_NOME.ipynb\"><img align=\"left\" src=\"https://colab.research.google.com/assets/colab-badge.svg\" alt=\"Open in Colab\" title=\"Open in Google Colaboratory\"></a>"
      ]
    }
  ],
  "metadata": {
    "kernelspec": {
      "display_name": "Python 3",
      "language": "python",
      "name": "python3"
    },
    "language_info": {
      "codemirror_mode": {
        "name": "ipython",
        "version": 3
      },
      "file_extension": ".py",
      "mimetype": "text/x-python",
      "name": "python",
      "nbconvert_exporter": "python",
      "pygments_lexer": "ipython3",
      "version": "3.6.15"
    },
    "toc": {
      "base_numbering": 1,
      "nav_menu": {
        "height": "228px",
        "width": "370px"
      },
      "number_sections": true,
      "sideBar": true,
      "skip_h1_title": false,
      "title_cell": "Table of Contents",
      "title_sidebar": "Contents",
      "toc_cell": false,
      "toc_position": {},
      "toc_section_display": true,
      "toc_window_display": false
    },
    "varInspector": {
      "cols": {
        "lenName": 16,
        "lenType": 16,
        "lenVar": 40
      },
      "kernels_config": {
        "python": {
          "delete_cmd_postfix": "",
          "delete_cmd_prefix": "del ",
          "library": "var_list.py",
          "varRefreshCmd": "print(var_dic_list())"
        },
        "r": {
          "delete_cmd_postfix": ") ",
          "delete_cmd_prefix": "rm(",
          "library": "var_list.r",
          "varRefreshCmd": "cat(var_dic_list()) "
        }
      },
      "types_to_exclude": [
        "module",
        "function",
        "builtin_function_or_method",
        "instance",
        "_Feature"
      ],
      "window_display": false
    },
    "colab": {
      "provenance": [],
      "include_colab_link": true
    }
  },
  "nbformat": 4,
  "nbformat_minor": 0
}