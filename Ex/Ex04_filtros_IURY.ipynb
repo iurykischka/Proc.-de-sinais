{
  "cells": [
    {
      "cell_type": "markdown",
      "metadata": {
        "id": "vX80Cfn87jvs"
      },
      "source": [
        "# Ex04 - `Iury Kischka (0040411)`\n",
        "\n",
        "Projeto e simulação de filtros analógicos.\n",
        "\n",
        "**HONESTIDADE ACADÊMICA**\n",
        "\n",
        "Todo o trabalho feito no sentido do cumprimento das expectativas deste curso deve ser exclusivamente seu. A colaboração de terceiros na realização dos trabalhos não é permitida.\n",
        "\n",
        "Ver ou copiar o trabalho de outro indivíduo do curso ou retirar material de um livro, site ou outra fonte, mesmo em parte e apresentá-lo como seu próprio constitui desonestidade acadêmica, assim como mostrar ou dar a sua obra, mesmo em parte, a outro estudante. Da mesma forma, é desonestidade acadêmica fornecer ou tornar as soluções disponíveis dos trabalhos para os indivíduos que fazem ou poderão fazer este curso no futuro. Você está convidado a discutir o material do curso com os outros, a fim de melhor compreendê-lo. Você pode até discutir sobre os trabalhos com os colegas, mas você não pode compartilhar códigos, funções, projetos, tabelas, desenhos esquemáticos, mapas ou diagramas.\n",
        "\n",
        "Você pode e deve recorrer à Web para obter referências na busca de soluções para os trabalhos, mas não por soluções definitivas para os problemas. No entanto, deve-se citar explicitamente no projeto a origem de qualquer procedimento ou técnica que você descubra fora do curso.\n",
        "\n",
        "Todas as formas de desonestidade acadêmica são tratadas com rigor.\n",
        "\n",
        "**Instruções:**\n",
        "- Use a versão Python 3.x\n",
        "- Para as figuras, use o tamanho `(10,2)`, fazendo `plt.figure(figsize=(10,2))`.\n",
        "- Não apague os comentários existentes, mas você pode adicionar outros comentários.\n",
        "\n",
        "**Objetivos**\n",
        "- Realizar o projeto de filtros analógicos\n",
        "- Analisar resposta em frequência do filtro projetado"
      ]
    },
    {
      "cell_type": "markdown",
      "metadata": {
        "id": "69x2t_C57jvz"
      },
      "source": [
        "## Escreva seu RA na variável abaixo\n",
        "\n",
        "<mark>**Faça**</mark>: escreva seu RA na variável abaixo, sem colocar os zeros à esquerda. Depois rode o código para ver as especificações do filtro a ser implementado.\n",
        "\n",
        "Após escrever o `RA` e executar o código, veja que serão geradas especificações para o filtro que você irá implementar. ***Note que é possível saber o tipo de filtro baseado nas frequências de corte e de rejeição.***"
      ]
    },
    {
      "cell_type": "code",
      "execution_count": 2,
      "metadata": {
        "scrolled": true,
        "id": "NDgZ2pT37jv0",
        "colab": {
          "base_uri": "https://localhost:8080/"
        },
        "outputId": "74bed5b4-dd30-4ab3-8c4b-487c3c425335"
      },
      "outputs": [
        {
          "output_type": "stream",
          "name": "stdout",
          "text": [
            "Especificações do filtro:\n",
            "  >> Gp = -1.32 dB\n",
            "  >> Gr = -69 dB\n",
            "  >> Ωp1 = 62 Hz\n",
            "  >> Ωp2 = 144 Hz\n",
            "  >> Ωr1 = 37 Hz\n",
            "  >> Ωr2 = 198 Hz\n"
          ]
        }
      ],
      "source": [
        "### SEU CÓDIGO COMEÇA AQUI ### (1 linha)\n",
        "import numpy as np\n",
        "RA = 40411\n",
        "### FIM DO CÓDIGO ###\n",
        "\n",
        "np.random.seed(RA+22)\n",
        "Gp = np.random.uniform(-.5,-2)*100//1/100\n",
        "Gr = np.random.uniform(-70,-40)//1\n",
        "ft = int((12345*np.random.rand())%4)\n",
        "if (ft==0)|(ft==2):\n",
        "    fp = np.random.uniform(30,100)//1\n",
        "    fr = fp+np.random.uniform(30,50)//1\n",
        "elif (ft==1)|(ft==3):\n",
        "    fp1 = np.random.uniform(10,40)//1\n",
        "    fr1 = fp1+np.random.uniform(20,30)//1\n",
        "    fr2 = np.random.uniform(100,150)//1\n",
        "    fp2 = fr2+np.random.uniform(50,70)//1\n",
        "if ft==2: fr, fp = fp, fr\n",
        "if ft==3: fp1, fp2, fr1, fr2 = fr1, fr2, fp1, fp2\n",
        "\n",
        "print(\"Especificações do filtro:\")\n",
        "print(\"  >> Gp = %.2f dB\"%Gp)\n",
        "print(\"  >> Gr = %.0f dB\"%Gr)\n",
        "if (ft%2)==1:\n",
        "    print(\"  >> \\u03A9p1 = %.0f Hz\"%fp1)\n",
        "    print(\"  >> \\u03A9p2 = %.0f Hz\"%fp2)\n",
        "    print(\"  >> \\u03A9r1 = %.0f Hz\"%fr1)\n",
        "    print(\"  >> \\u03A9r2 = %.0f Hz\"%fr2)\n",
        "    del ft, fp1, fp2, fr1, fr2, Gp, Gr\n",
        "else:\n",
        "    print(\"  >> \\u03A9p = %.0f Hz\"%fp)\n",
        "    print(\"  >> \\u03A9r = %.0f Hz\"%fr)\n",
        "    del ft, fp, fr, Gp, Gr"
      ]
    },
    {
      "cell_type": "markdown",
      "metadata": {
        "id": "djZMelNE7jv2"
      },
      "source": [
        "**Saída esperada**:\n",
        "texto com especificações do filtro a ser projetado.\n",
        "\n",
        "___\n",
        "## Especificações do filtro\n",
        "<mark>**Faça**</mark>: escreva variáveis abaixo contendo especificações do filtro. Seu código deve ter as seguintes variáveis:\n",
        "- $\\delta_p$: ondulação na faixa de passagem\n",
        "- $\\delta_r$: ondulação na faixa de rejeição\n",
        "- $G_p$: ganho mínimo (dB) na faixa de passagem\n",
        "- $G_r$: ganho máximo (dB) na faixa de rejeição\n",
        "- $A_p$: atenuação máxima (dB) na faixa de passagem\n",
        "- $A_r$: atenuação mínima (dB) na faixa de rejeição\n",
        "- $\\Omega_p$ (ou $\\Omega_{p1}$ e $\\Omega_{p2}$): frequência na faixa de passagem (rad/s)\n",
        "- $\\Omega_r$ (ou $\\Omega_{r1}$ e $\\Omega_{r2}$): frequência na faixa de rejeição (rad/s)\n",
        "\n",
        "O código abaixo terá apenas a definição das variáveis acima. Ao final do código, faça um `print` de **todas** as variáveis criadas e informe **qual o TIPO de filtro a ser projetado** (passa-baixas, passa-altas, passa-faixa, rejeita-faixa)."
      ]
    },
    {
      "cell_type": "code",
      "execution_count": 3,
      "metadata": {
        "id": "H7Tw5rzx7jv3",
        "colab": {
          "base_uri": "https://localhost:8080/",
          "height": 321
        },
        "outputId": "ef78e3bb-fc81-47f1-e428-b362865513db"
      },
      "outputs": [
        {
          "output_type": "stream",
          "name": "stdout",
          "text": [
            "FILTRO do tipo ....\n",
            " - Ap: 1.32\n",
            " - Ar: 69.00\n",
            " - Gp: -1.32\n",
            " - Gr: -69.00\n"
          ]
        },
        {
          "output_type": "error",
          "ename": "TypeError",
          "evalue": "ignored",
          "traceback": [
            "\u001b[0;31m---------------------------------------------------------------------------\u001b[0m",
            "\u001b[0;31mTypeError\u001b[0m                                 Traceback (most recent call last)",
            "\u001b[0;32m<ipython-input-3-dbc73d51eafc>\u001b[0m in \u001b[0;36m<module>\u001b[0;34m\u001b[0m\n\u001b[1;32m     24\u001b[0m \u001b[0mprint\u001b[0m\u001b[0;34m(\u001b[0m\u001b[0;34m\" - Gp: %.2f\"\u001b[0m\u001b[0;34m%\u001b[0m\u001b[0mGp\u001b[0m\u001b[0;34m)\u001b[0m\u001b[0;34m\u001b[0m\u001b[0;34m\u001b[0m\u001b[0m\n\u001b[1;32m     25\u001b[0m \u001b[0mprint\u001b[0m\u001b[0;34m(\u001b[0m\u001b[0;34m\" - Gr: %.2f\"\u001b[0m\u001b[0;34m%\u001b[0m\u001b[0mGr\u001b[0m\u001b[0;34m)\u001b[0m\u001b[0;34m\u001b[0m\u001b[0;34m\u001b[0m\u001b[0m\n\u001b[0;32m---> 26\u001b[0;31m \u001b[0mprint\u001b[0m\u001b[0;34m(\u001b[0m\u001b[0;34m\" - dp: %.2f\"\u001b[0m\u001b[0;34m%\u001b[0m\u001b[0mdp\u001b[0m\u001b[0;34m)\u001b[0m\u001b[0;34m\u001b[0m\u001b[0;34m\u001b[0m\u001b[0m\n\u001b[0m\u001b[1;32m     27\u001b[0m \u001b[0mprint\u001b[0m\u001b[0;34m(\u001b[0m\u001b[0;34m\" - dr: %.2f\"\u001b[0m\u001b[0;34m%\u001b[0m\u001b[0mdr\u001b[0m\u001b[0;34m)\u001b[0m\u001b[0;34m\u001b[0m\u001b[0;34m\u001b[0m\u001b[0m\n\u001b[1;32m     28\u001b[0m \u001b[0;34m...\u001b[0m\u001b[0;34m\u001b[0m\u001b[0;34m\u001b[0m\u001b[0m\n",
            "\u001b[0;31mTypeError\u001b[0m: must be real number, not list"
          ]
        }
      ],
      "source": [
        "### SEU CÓDIGO COMEÇA AQUI ### (10 linhas)\n",
        "\n",
        "#Especificações do Filtro\n",
        "Sp = 10**Gp\n",
        "#Sr = \n",
        "Gp = -1.32 #dB log(Sp^20) = Gp\n",
        "Gr = -69 #dB\n",
        "Ap = -Gp #dB\n",
        "Ar = -Gr #dB\n",
        "fp1 = 62 #Hz\n",
        "fp2 = 144 #Hz\n",
        "fr1 = 37 #Hz\n",
        "fr2 = 198 #Hz\n",
        "\n",
        "wp1 = fp1*(2*np.pi) #rad/s\n",
        "wp2 = fp2*(2*np.pi) #rad/s\n",
        "wr1 = fr1*(2*np.pi) #rad/s\n",
        "wr2 = fr2*(2*np.pi) #rad/s\n",
        "\n",
        "dp = [wp1, wp2]\n",
        "dr = [wr1, wr2]\n",
        "\n",
        "print(\"FILTRO do tipo ....\")\n",
        "print(\" - Ap: %.2f\"%Ap)\n",
        "print(\" - Ar: %.2f\"%Ar)\n",
        "print(\" - Gp: %.2f\"%Gp)\n",
        "print(\" - Gr: %.2f\"%Gr)\n",
        "print(\" - dp: %.2f\"%dp)\n",
        "print(\" - dr: %.2f\"%dr)\n",
        "...\n",
        "### FIM DO CÓDIGO ###"
      ]
    },
    {
      "cell_type": "markdown",
      "metadata": {
        "id": "64ol-a-x7jv4"
      },
      "source": [
        "**Saída esperada**:\n",
        "valor das variáveis com especificações do filtro a ser projetado.\n",
        "\n",
        "___\n",
        "## Filtro protótipo\n",
        "<mark>**Faça**</mark>: obtenha o filtro protótipo (normalizado) que satisfaça as especificações. Na célula abaixo, mostre o diagrama de Bode (módulo e fase) desse filtro protótipo. Mostre as aproximações de Butterworth, Chebyshev (tipo 1 e tipo 2) e Elíptico **no mesmo gráfico**. Mostre a ordem de cada filtro especificado (na legenda da figura ou usando um comando `print` mesmo).\n",
        "\n",
        "Obs.: os comandos `buttord`, `cheb1ord`, `cheb2ord`, `ellipord` serão úteis para verificar a ordem necessária para projeto do filtro. Use os comandos `buttap`, `cheb1ap`, `cheb2ap`, `ellipap` para criar filtros protótipos (normalizados) baseado nas especificações. Cada figura deve ter o tamanho `plt.figure(figsize=(10,2))`."
      ]
    },
    {
      "cell_type": "code",
      "execution_count": null,
      "metadata": {
        "id": "t-jJnQdB7jv4"
      },
      "outputs": [],
      "source": [
        "### SEU CÓDIGO COMEÇA AQUI ###\n",
        "\n",
        "# Ordem dos filtros\n",
        "...\n",
        "\n",
        "# Filtros protótipos\n",
        "...\n",
        "\n",
        "# Bode\n",
        "...\n",
        "\n",
        "# Gráfico (módulo)\n",
        "...\n",
        "\n",
        "# Gráfico (fase)\n",
        "...\n",
        "\n",
        "### FIM DO CÓDIGO ###"
      ]
    },
    {
      "cell_type": "markdown",
      "metadata": {
        "id": "U1rs5WTd7jv5"
      },
      "source": [
        "**Saída esperada**:\n",
        "diagrama de Bode (módulo e fase) dos filtros protótipos normalizados.\n",
        "\n",
        "___\n",
        " <mark>**Faça**</mark>: num mesmo gráfico, mostre a constelação de polos e zeros de cada aproximação no plano s. Use as mesmas cores para um mesmo tipo de filtro e mostre a legenda.\n",
        " \n",
        "**Obs.:** lembre-se da definição de polos e zeros, de como mostrá-los no plano s, baseado em parte real e parte imaginária. Excepcionalmente esta figura deve ter o tamanho `plt.figure(figsize=(10,7))`."
      ]
    },
    {
      "cell_type": "code",
      "execution_count": null,
      "metadata": {
        "id": "bBjR9AzD7jv6"
      },
      "outputs": [],
      "source": [
        "### SEU CÓDIGO COMEÇA AQUI ### (16 linhas)\n",
        "plt.figure(figsize=(10,7))\n",
        "...\n",
        "plt.xlabel(\"real\")\n",
        "plt.ylabel(\"imaginário\")\n",
        "plt.axis([-2,2,-2,2]);\n",
        "plt.grid(which=\"both\");\n",
        "### FIM DO CÓDIGO ###"
      ]
    },
    {
      "cell_type": "markdown",
      "metadata": {
        "id": "X4vNDPPU7jv6"
      },
      "source": [
        "**Saída esperada**:\n",
        "plano s com constelação de polos e zeros dos filtros projetados.\n",
        "\n",
        "___\n",
        "## Filtro desnormalizado\n",
        "<mark>**Faça**</mark>: obtenha quatro filtros que satisfaçam às especificações. Na célula abaixo, mostre o diagrama de Bode (módulo e fase) dos filtros projetados pelas aproximações de Butterworth, Chebyshev (tipo 1 e tipo 2) e Elíptico **no mesmo gráfico**, identificados por legendas. Use o comando `plt.fill` para delimitar as especificações do filtro."
      ]
    },
    {
      "cell_type": "code",
      "execution_count": null,
      "metadata": {
        "id": "iV11TZk_7jv7"
      },
      "outputs": [],
      "source": [
        "### SEU CÓDIGO COMEÇA AQUI ### (35 linhas)\n",
        "\n",
        "# Filtros\n",
        "...\n",
        "\n",
        "# Bode\n",
        "...\n",
        "\n",
        "# Gráfico (módulo)\n",
        "...\n",
        "\n",
        "# Especificações (gabarito)\n",
        "...\n",
        "\n",
        "# Gráfico (fase)\n",
        "...\n",
        "\n",
        "### FIM DO CÓDIGO ###"
      ]
    },
    {
      "cell_type": "markdown",
      "metadata": {
        "id": "41i-LY5l7jv7"
      },
      "source": [
        "**Saída esperada**:\n",
        "diagrama de Bode (módulo e fase) dos filtros projetados, incluindo as marcações das regiões que atendem às especificações.\n",
        "\n",
        "___\n",
        "\n",
        "## Usando o filtro projetado\n",
        "\n",
        "<mark>**Faça**</mark>: escolha **apenas UM** dos filtros obtidos para serem utilizados nesta parte!\n",
        "- rode o código abaixo para ver o sinal `x` (vetor tempo `t`) no domínio do tempo\n",
        "- filtre o sinal `x` e obtenha o sinal de saída `y` (filtrado pelo filtro que escolheu)\n",
        "- faça um gráfico, no domínio da frequência (não faça em dB não!), com escala linar de frequências em Hz, mostrando num mesmo gráfico o módulo da FFT do sinal antes (`x`) e após (`y`) o processo de filtragem (não é necesário mostrar a fase)\n",
        "- opcionalmente compare os dois simais, antes (`x`) e após (`y`) a filtragem, no domínio do tempo\n",
        "\n",
        "**Obs.:** as figuras devem ter tamanho `(10,2)`, identificando na legenda cada um dos sinais. Você pode usar a função criada em exercícios anteriores para mostrar a FFT dos sinais.\n",
        "\n",
        "**Obs.2:** se a função `lsim` não funcionar por problemas numéricos, use a função `lsim2`. Esta última demora mais a rodar! Será necessário aguardar um pouco. Lembre-se, estamos simulando um sistema de tempo contínuo num computador discreto... Se demorar a simular, sugiro deixar o código que \"demora\" em uma célula separada!"
      ]
    },
    {
      "cell_type": "code",
      "execution_count": null,
      "metadata": {
        "id": "CO9toMog7jv8"
      },
      "outputs": [],
      "source": [
        "np.random.seed(RA)\n",
        "n050 = 21\n",
        "t = np.arange(0, 3, .001)\n",
        "x = np.dot(np.linspace(5, 5, n050), np.sin(np.linspace(0, 300, n050).reshape((n050,1))\n",
        "                                          *2*np.pi*t+1*np.random.uniform(0, np.pi, (n050,1))) )\n",
        "plt.figure(figsize=(12,3))\n",
        "plt.plot(t, x)\n",
        "plt.xlim(0,3)\n",
        "plt.title(\"Sinal de entrada a ser filtrado (domínio do tempo)\")\n",
        "plt.xlabel(\"tempo (s)\")\n",
        "plt.ylabel(\"$x(t)$\");"
      ]
    },
    {
      "cell_type": "code",
      "execution_count": null,
      "metadata": {
        "code_folding": [],
        "id": "tN3NT42y7jv8"
      },
      "outputs": [],
      "source": [
        "### SEU CÓDIGO COMEÇA AQUI ###\n",
        "...\n",
        "### FIM DO CÓDIGO ###"
      ]
    },
    {
      "cell_type": "code",
      "execution_count": null,
      "metadata": {
        "code_folding": [],
        "id": "GqvZ7cIZ7jv9"
      },
      "outputs": [],
      "source": [
        "### SEU CÓDIGO COMEÇA AQUI ###\n",
        "...\n",
        "### FIM DO CÓDIGO ###"
      ]
    },
    {
      "cell_type": "code",
      "execution_count": null,
      "metadata": {
        "code_folding": [],
        "id": "U3kzuqAi7jv9"
      },
      "outputs": [],
      "source": [
        "### SEU CÓDIGO COMEÇA AQUI ###\n",
        "...\n",
        "### FIM DO CÓDIGO ###"
      ]
    },
    {
      "cell_type": "code",
      "execution_count": null,
      "metadata": {
        "code_folding": [],
        "id": "pmQbgv597jv9"
      },
      "outputs": [],
      "source": [
        "### SEU CÓDIGO COMEÇA AQUI ###\n",
        "...\n",
        "### FIM DO CÓDIGO ###"
      ]
    },
    {
      "cell_type": "markdown",
      "metadata": {
        "id": "pLOmQxRo7jv-"
      },
      "source": [
        "**Saída esperada**:\n",
        "1. Gráfico de módulo no domínio da frequência (Hz) do sinal antes e após passar pelo filtro.\n",
        "1. (opcional) gráfico dos sinais no domínio do tempo\n",
        "___\n",
        "\n",
        "# Concluões\n",
        "\n",
        "**1 - Para as especificações apresentadas, qual filtro teve maior ordem? Por que?**"
      ]
    },
    {
      "cell_type": "markdown",
      "metadata": {
        "id": "wl8YLqbc7jv-"
      },
      "source": [
        "**Resposta:**\n",
        "\n",
        "`[escreva aqui sua resposta]`"
      ]
    },
    {
      "cell_type": "markdown",
      "metadata": {
        "id": "aCJPNpmW7jv-"
      },
      "source": [
        "**2 - O sinal `x` foi filtrado produzindo o sinal `y`. Descreva, com o máximo de detalhes possível, no domínio da frequência, quais alterações foram realizadas no sinal de saída em relação ao sinal de entrada?**"
      ]
    },
    {
      "cell_type": "markdown",
      "metadata": {
        "id": "n736XBCv7jv_"
      },
      "source": [
        "**Resposta:**\n",
        "\n",
        "`[escreva aqui sua resposta]`"
      ]
    },
    {
      "cell_type": "markdown",
      "metadata": {
        "id": "Qtf-HRp87jv_"
      },
      "source": [
        "**3 - Qual o tipo de filtro do sistema abaixo? Responda essa questão por meio da análise geométrica do plano s. Justifique textualmente a conclusão que você obteve.**\n",
        "\n",
        "<img src=\"https://github.com/ifmg-betim/2022.2_AUT.040_ProcSin/raw/main/Ex/Ex04_sistema.png\" alt=\"sistema\" width=\"400\"/>\n"
      ]
    },
    {
      "cell_type": "markdown",
      "metadata": {
        "id": "3NocuqgO7jv_"
      },
      "source": [
        "**Resposta:**\n",
        "\n",
        "`[escreva aqui sua resposta]`"
      ]
    },
    {
      "cell_type": "markdown",
      "metadata": {
        "id": "Cu9n01ny7jv_"
      },
      "source": [
        "___\n",
        "## Desafio (não é obrigatório!)\n",
        "\n",
        "Escolha um dos filtros obtidos e encontre o circuito ativo que implementa o filtro correspondente, utilizando valores comerciais de componentes (resistores, capacitores, indutores). Implemente o esquemático de um filtro **ativo** e outro filtro **passivo**. Mostre abaixo uma figura com a implementação dos filtros.\n",
        "\n",
        "`[figura com circuito do filtro ativo]` `[figura com circuito do filtro passivo]`\n",
        "\n",
        "Na célula abaixo, mostre a resposta em frequência dos filtros implementados (considerando os valores comerciais dos componentes) junto com o gabarito de projeto."
      ]
    },
    {
      "cell_type": "code",
      "execution_count": null,
      "metadata": {
        "id": "TNha5Uq67jwA"
      },
      "outputs": [],
      "source": [
        "### SEU CÓDIGO COMEÇA AQUI ###\n",
        "\n",
        "\n",
        "### FIM DO CÓDIGO ###"
      ]
    },
    {
      "cell_type": "markdown",
      "metadata": {
        "id": "fiPQrVvB7jwA"
      },
      "source": [
        "Bom trabalho :c)"
      ]
    }
  ],
  "metadata": {
    "@webio": {
      "lastCommId": null,
      "lastKernelId": null
    },
    "kernelspec": {
      "display_name": "Python 3",
      "language": "python",
      "name": "python3"
    },
    "language_info": {
      "codemirror_mode": {
        "name": "ipython",
        "version": 3
      },
      "file_extension": ".py",
      "mimetype": "text/x-python",
      "name": "python",
      "nbconvert_exporter": "python",
      "pygments_lexer": "ipython3",
      "version": "3.6.15"
    },
    "toc": {
      "base_numbering": 1,
      "nav_menu": {
        "height": "228px",
        "width": "370px"
      },
      "number_sections": true,
      "sideBar": true,
      "skip_h1_title": false,
      "title_cell": "Table of Contents",
      "title_sidebar": "Contents",
      "toc_cell": false,
      "toc_position": {},
      "toc_section_display": true,
      "toc_window_display": false
    },
    "varInspector": {
      "cols": {
        "lenName": 16,
        "lenType": 16,
        "lenVar": 40
      },
      "kernels_config": {
        "python": {
          "delete_cmd_postfix": "",
          "delete_cmd_prefix": "del ",
          "library": "var_list.py",
          "varRefreshCmd": "print(var_dic_list())"
        },
        "r": {
          "delete_cmd_postfix": ") ",
          "delete_cmd_prefix": "rm(",
          "library": "var_list.r",
          "varRefreshCmd": "cat(var_dic_list()) "
        }
      },
      "types_to_exclude": [
        "module",
        "function",
        "builtin_function_or_method",
        "instance",
        "_Feature"
      ],
      "window_display": false
    },
    "colab": {
      "provenance": []
    }
  },
  "nbformat": 4,
  "nbformat_minor": 0
}