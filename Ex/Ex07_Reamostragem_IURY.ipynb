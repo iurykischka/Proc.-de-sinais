{
  "cells": [
    {
      "cell_type": "markdown",
      "metadata": {
        "id": "ZiL_hYaaP15s"
      },
      "source": [
        "# Ex07 - `[escreva seu nome aqui]` - `[escreva seu RA aqui]`\n",
        "\n",
        "Decimação, interpolação, reamostragem.\n",
        "\n",
        "**HONESTIDADE ACADÊMICA**\n",
        "\n",
        "Todo o trabalho feito no sentido do cumprimento das expectativas deste curso deve ser exclusivamente seu. A colaboração de terceiros na realização dos trabalhos não é permitida.\n",
        "\n",
        "Ver ou copiar o trabalho de outro indivíduo do curso ou retirar material de um livro, site ou outra fonte, mesmo em parte e apresentá-lo como seu próprio constitui desonestidade acadêmica, assim como mostrar ou dar a sua obra, mesmo em parte, a outro estudante. Da mesma forma, é desonestidade acadêmica fornecer ou tornar as soluções disponíveis dos trabalhos para os indivíduos que fazem ou poderão fazer este curso no futuro. Você está convidado a discutir o material do curso com os outros, a fim de melhor compreendê-lo. Você pode até discutir sobre os trabalhos com os colegas, mas você não pode compartilhar códigos, funções, projetos, tabelas, desenhos esquemáticos, mapas ou diagramas.\n",
        "\n",
        "Você pode e deve recorrer à Web para obter referências na busca de soluções para os trabalhos, mas não por soluções definitivas para os problemas. No entanto, deve-se citar explicitamente no projeto a origem de qualquer procedimento ou técnica que você descubra fora do curso.\n",
        "\n",
        "Todas as formas de desonestidade acadêmica são tratadas com rigor.\n",
        "\n",
        "\n",
        "**Instruções:**\n",
        "- Não apague os comentários que já existem nas células de código. Mas é claro que você pode adicionar outros comentários.\n",
        "- Não inclua mais células do que o especificado e mantenha a organização.\n",
        "- Use `plt.figure(figsize=(10,1))` para ajustar o tamanho das figuras e sempre coloque rótulos.\n",
        "\n",
        "**Objetivos**\n",
        "- Implementar compressores, expansores e reamostradores\n",
        "- Analisar os efeitos no sinal no domínio do tempo e da frequência"
      ]
    },
    {
      "cell_type": "markdown",
      "metadata": {
        "id": "vRe4kQy4P15y"
      },
      "source": [
        "## Registre o seu RA\n",
        "\n",
        "Primeiro, registre o seu RA na variável indicada.\n",
        "\n",
        "\n",
        "<mark>**Fazer:** Escreva o seu RA na variável `RA`.</mark>"
      ]
    },
    {
      "cell_type": "code",
      "execution_count": null,
      "metadata": {
        "id": "GI32QGncP15y"
      },
      "outputs": [],
      "source": [
        "### SEU CÓDIGO COMEÇA AQUI ###\n",
        "RA = ...\n",
        "### FIM DO CÓDIGO ###\n",
        "print(RA)"
      ]
    },
    {
      "cell_type": "markdown",
      "metadata": {
        "id": "RC1j0_alP150"
      },
      "source": [
        "**Saída esperada**:\n",
        "1. Seu número de RA\n",
        "---\n",
        "\n",
        "## Sinal a ser analisado\n",
        "\n",
        "Nesta atividade analisaremos o sinal abaixo. Analise o sinal abaixo no domínio do tempo contínuo (em segundos), no domínio do tempo discreto (em amostras), no domínio da frequência discreto (em rad/amostra) e no domínio da frequência (em Hz). Use sempre o `figsize=(10,1)`.\n",
        "\n",
        "<mark>**Fazer:**</mark>\n",
        "1. gráfico de `x` no domínio do tempo em amostras;\n",
        "2. gráfico de `x` no domínio do tempo em segundos;\n",
        "3. gráfico do módulo de `x` no domínio da frequência expressa em rad/amostra (não faça amplitude em dB não!);\n",
        "4. gráfico do módulo de `x` no domínio da frequência expressa em Hz (não faça amplitude em dB não!).\n",
        "\n",
        "**Dica:** escreva uma função para plotar os gráficos, pois estes mesmos gráficos serão usados posteriormente ao longo de toda a atividade."
      ]
    },
    {
      "cell_type": "code",
      "execution_count": null,
      "metadata": {
        "id": "1XfmbYSuP150"
      },
      "outputs": [],
      "source": [
        "# Importa dados\n",
        "import numpy as np, matplotlib.pyplot as plt\n",
        "from scipy.fft import fft #fast Fourier Transform\n",
        "from scipy import signal\n",
        "\n",
        "# parâmetros do sinal\n",
        "T = .1 #interbalo de amostragem\n",
        "N = 500 #tamanho do sinal\n",
        "n = np.arange(N) #vetor de amostras\n",
        "t = np.arange(0, N*T, T) #vetor de tempo (segundos)\n",
        "\n",
        "# sinal a ser trabalhado\n",
        "np.random.seed(RA//3)\n",
        "x = np.dot(np.linspace(.1, 5, 23), np.sin(np.arange(0, .23,.01).reshape((23,1))\n",
        "                                          *2*np.pi*n+np.random.uniform(0, np.pi, (23,1))) )\n",
        "\n",
        "### SEU CÓDIGO COMEÇA AQUI ###\n",
        "...\n",
        "### FIM DO CÓDIGO ###"
      ]
    },
    {
      "cell_type": "markdown",
      "metadata": {
        "id": "GsqMbE6qP151"
      },
      "source": [
        "**Saída esperada**:\n",
        "1. Gráfico do sinal no domínio do tempo em amostras\n",
        "1. Gráfico do sinal no domínio do tempo em segundos\n",
        "1. Gráfico do módulo da FFT do sinal (não faça em dB!), com frequências em rad/amostra\n",
        "1. Gráfico do módulo da FFT do sinal (não faça em dB!), com frequências em Hz\n",
        "---\n",
        "\n",
        "## Efeito da Decimação (M=2)\n",
        "\n",
        "<mark>**Fazer:** Faça a decimação do sinal com `M=2` e, sem implementar nenhum filtro, mostre os mesmos gráficos anteriores, mas contendo o sinal original e o sinal decimado em cada gráfico. Deve ter duas curvas em cada gráfico, uma representando `x` e outra curva para o sinal decimado.</mark>"
      ]
    },
    {
      "cell_type": "code",
      "execution_count": null,
      "metadata": {
        "id": "TSiq-IaaP152"
      },
      "outputs": [],
      "source": [
        "### SEU CÓDIGO COMEÇA AQUI ###\n",
        "...\n",
        "### FIM DO CÓDIGO ###"
      ]
    },
    {
      "cell_type": "markdown",
      "metadata": {
        "id": "VAfqhoIcP153"
      },
      "source": [
        "**Saída esperada**:\n",
        "1. Gráfico do sinal original e modificado no domínio do tempo em amostras\n",
        "1. Gráfico do sinal original e modificado no domínio do tempo em segundos\n",
        "1. Gráfico do módulo da FFT do sinal original e modificado (não faça em dB!), com frequências em rad/amostra\n",
        "1. Gráfico do módulo da FFT do sinal original e modificado (não faça em dB!), com frequências em Hz\n",
        "---\n",
        "\n",
        "## Efeito da Decimação (M=3)\n",
        "\n",
        "<mark>**Fazer:** Faça a decimação do sinal com `M=3` e, sem implementar nenhum filtro, mostre os mesmos gráficos anteriores, mas contendo o sinal original e o sinal decimado em cada gráfico. Deve ter duas curvas em cada gráfico, uma representando `x` e outra curva para o sinal decimado.</mark>"
      ]
    },
    {
      "cell_type": "code",
      "execution_count": null,
      "metadata": {
        "id": "tucParXBP153"
      },
      "outputs": [],
      "source": [
        "### SEU CÓDIGO COMEÇA AQUI ###\n",
        "...\n",
        "### FIM DO CÓDIGO ###"
      ]
    },
    {
      "cell_type": "markdown",
      "metadata": {
        "id": "uN52iJCHP154"
      },
      "source": [
        "**Saída esperada**:\n",
        "1. Gráfico do sinal original e modificado no domínio do tempo em amostras\n",
        "1. Gráfico do sinal original e modificado no domínio do tempo em segundos\n",
        "1. Gráfico do módulo da FFT do sinal original e modificado (não faça em dB!), com frequências em rad/amostra\n",
        "1. Gráfico do módulo da FFT do sinal original e modificado (não faça em dB!), com frequências em Hz\n",
        "---\n",
        "\n",
        "## Decimação usando `signal.decimate` e `signal.resample` (M=3)\n",
        "\n",
        "<mark>**Fazer:** Faça a decimação do sinal com `M=3` usando `signal.decimate` ou `signal.resample`. Mostre os mesmos gráficos anteriores, mas contendo o sinal original e o sinal decimado em cada gráfico. Deve ter duas curvas em cada gráfico, uma representando `x` e outra curva para o sinal decimado.</mark>"
      ]
    },
    {
      "cell_type": "code",
      "execution_count": null,
      "metadata": {
        "id": "kSmtZf2CP155"
      },
      "outputs": [],
      "source": [
        "### SEU CÓDIGO COMEÇA AQUI ###\n",
        "...\n",
        "### FIM DO CÓDIGO ###"
      ]
    },
    {
      "cell_type": "markdown",
      "metadata": {
        "id": "qVTkNOp7P155"
      },
      "source": [
        "**Saída esperada**:\n",
        "1. Gráfico do sinal original e modificado no domínio do tempo em amostras\n",
        "1. Gráfico do sinal original e modificado no domínio do tempo em segundos\n",
        "1. Gráfico do módulo da FFT do sinal original e modificado (não faça em dB!), com frequências em rad/amostra\n",
        "1. Gráfico do módulo da FFT do sinal original e modificado (não faça em dB!), com frequências em Hz\n",
        "---\n",
        "\n",
        "## Superamostragem (L=2)\n",
        "\n",
        "Antes de implementar a superamostragem, rode o código abaixo e veja como ele pode te ajudar a implementar o superamostrador."
      ]
    },
    {
      "cell_type": "code",
      "execution_count": null,
      "metadata": {
        "id": "DEvPvXGJP156"
      },
      "outputs": [],
      "source": [
        "# Exemplo do uso de \"np.kron\" para adicionar zeros entre amostras\n",
        "sinal = np.arange(1, 10)\n",
        "modificacao = [1, 0] # <-- altere essa variável para [1, 0, 0] e veja o que acontece\n",
        "print(sinal)\n",
        "print(np.kron(sinal, modificacao))"
      ]
    },
    {
      "cell_type": "markdown",
      "metadata": {
        "id": "m-LpkNzDP156"
      },
      "source": [
        "<mark>**Fazer:** Faça a superamostragem do sinal com `L=2`, sem usar nenhum filtro. Mostre os mesmos gráficos anteriores, mas contendo o sinal original e o sinal modificado em cada gráfico. Deve ter duas curvas em cada gráfico, uma representando `x` e outra curva para o sinal com taxa de amostragem alterada.</mark>"
      ]
    },
    {
      "cell_type": "code",
      "execution_count": null,
      "metadata": {
        "id": "tUb5sh7PP156"
      },
      "outputs": [],
      "source": [
        "### SEU CÓDIGO COMEÇA AQUI ###\n",
        ",,,\n",
        "### FIM DO CÓDIGO ###"
      ]
    },
    {
      "cell_type": "markdown",
      "metadata": {
        "id": "zAW0kLHSP157"
      },
      "source": [
        "**Saída esperada**:\n",
        "1. Gráfico do sinal original e modificado no domínio do tempo em amostras\n",
        "1. Gráfico do sinal original e modificado no domínio do tempo em segundos\n",
        "1. Gráfico do módulo da FFT do sinal original e modificado (não faça em dB!), com frequências em rad/amostra\n",
        "1. Gráfico do módulo da FFT do sinal original e modificado (não faça em dB!), com frequências em Hz\n",
        "---\n",
        "\n",
        "## Efeito da superamostragem (L=4)\n",
        "\n",
        "<mark>**Fazer:** Faça a superamostragem do sinal com `L=4`, sem usar nenhum filtro. Mostre os mesmos gráficos anteriores, mas contendo o sinal original e o sinal modificado em cada gráfico. Deve ter duas curvas em cada gráfico, uma representando `x` e outra curva para o sinal com taxa de amostragem alterada.</mark>"
      ]
    },
    {
      "cell_type": "code",
      "execution_count": null,
      "metadata": {
        "id": "M2KW7C8NP157"
      },
      "outputs": [],
      "source": [
        "### SEU CÓDIGO COMEÇA AQUI ###\n",
        "...\n",
        "### FIM DO CÓDIGO ###"
      ]
    },
    {
      "cell_type": "markdown",
      "metadata": {
        "id": "dGvrGgdPP157"
      },
      "source": [
        "**Saída esperada**:\n",
        "1. Gráfico do sinal original e modificado no domínio do tempo em amostras\n",
        "1. Gráfico do sinal original e modificado no domínio do tempo em segundos\n",
        "1. Gráfico do módulo da FFT do sinal original e modificado (não faça em dB!), com frequências em rad/amostra\n",
        "1. Gráfico do módulo da FFT do sinal original e modificado (não faça em dB!), com frequências em Hz\n",
        "---\n",
        "\n",
        "## Interpolação usando `signal.resample` (L=4)\n",
        "\n",
        "<mark>**Fazer:** Faça a expansão do sinal com `L=4` usando comando `signal.resample`. Mostre os mesmos gráficos anteriores, mas contendo o sinal original e o sinal modificado em cada gráfico. Deve ter duas curvas em cada gráfico, uma representando `x` e outra curva para o sinal com taxa de amostragem alterada.</mark>"
      ]
    },
    {
      "cell_type": "code",
      "execution_count": null,
      "metadata": {
        "code_folding": [],
        "id": "70BzHrg7P157"
      },
      "outputs": [],
      "source": [
        "### SEU CÓDIGO COMEÇA AQUI ###\n",
        "...\n",
        "### FIM DO CÓDIGO ###"
      ]
    },
    {
      "cell_type": "markdown",
      "metadata": {
        "id": "iCECZ2_lP158"
      },
      "source": [
        "**Saída esperada**:\n",
        "1. Gráfico do sinal original e modificado no domínio do tempo em amostras\n",
        "1. Gráfico do sinal original e modificado no domínio do tempo em segundos\n",
        "1. Gráfico do módulo da FFT do sinal original e modificado (não faça em dB!), com frequências em rad/amostra\n",
        "1. Gráfico do módulo da FFT do sinal original e modificado (não faça em dB!), com frequências em Hz\n",
        "---\n",
        "\n",
        "## Amostragem por fator não inteiro usando `signal.resample` (L=4, M=3)\n",
        "\n",
        "<mark>**Fazer:** Faça a mudança na taxa de amostragem do sinal com `L=4` e `M=3` usando comando `signal.resample`. Mostre os mesmos gráficos anteriores, mas contendo o sinal original e o sinal modificado em cada gráfico. Deve ter duas curvas em cada gráfico, uma representando `x` e outra curva para o sinal com taxa de amostragem alterada.</mark>"
      ]
    },
    {
      "cell_type": "code",
      "execution_count": null,
      "metadata": {
        "id": "dPRAB5u4P158"
      },
      "outputs": [],
      "source": [
        "### SEU CÓDIGO COMEÇA AQUI ###\n",
        "...\n",
        "### FIM DO CÓDIGO ###"
      ]
    },
    {
      "cell_type": "markdown",
      "metadata": {
        "id": "zoZgWOmRP158"
      },
      "source": [
        "**Saída esperada**:\n",
        "1. Gráfico do sinal original e modificado no domínio do tempo em amostras\n",
        "1. Gráfico do sinal original e modificado no domínio do tempo em segundos\n",
        "1. Gráfico do módulo da FFT do sinal original e modificado (não faça em dB!), com frequências em rad/amostra\n",
        "1. Gráfico do módulo da FFT do sinal original e modificado (não faça em dB!), com frequências em Hz\n",
        "---\n",
        "\n",
        "## Amostragem por fator não inteiro usando `signal.resample_poly` (L=3, M=4)\n",
        "\n",
        "<mark>**Fazer:** Faça a mudança na taxa de amostragem do sinal com `L=3` e `M=4` usando comando `signal.resample`. Mostre os mesmos gráficos anteriores, mas contendo o sinal original e o sinal modificado em cada gráfico. Deve ter duas curvas em cada gráfico, uma representando `x` e outra curva para o sinal com taxa de amostragem alterada.</mark>"
      ]
    },
    {
      "cell_type": "code",
      "execution_count": null,
      "metadata": {
        "id": "NXQoxjhsP159"
      },
      "outputs": [],
      "source": [
        "### SEU CÓDIGO COMEÇA AQUI ###\n",
        "...\n",
        "### FIM DO CÓDIGO ###"
      ]
    },
    {
      "cell_type": "markdown",
      "metadata": {
        "id": "wQcnG5ZNP159"
      },
      "source": [
        "**Saída esperada**:\n",
        "1. Gráfico do sinal original e modificado no domínio do tempo em amostras\n",
        "1. Gráfico do sinal original e modificado no domínio do tempo em segundos\n",
        "1. Gráfico do módulo da FFT do sinal original e modificado (não faça em dB!), com frequências em rad/amostra\n",
        "1. Gráfico do módulo da FFT do sinal original e modificado (não faça em dB!), com frequências em Hz\n",
        "___\n",
        "\n",
        "# Concluões: responda às questões abaixo\n",
        "\n",
        "**1 - Qual o efeito da subamostragem? O que é feito para mitigar o efeito gerado? Responda citando os gráficos gerados na atividade.**"
      ]
    },
    {
      "cell_type": "markdown",
      "metadata": {
        "id": "AeEnDsWbP159"
      },
      "source": [
        "**Resposta:**\n",
        "\n",
        "`[escreva aqui sua resposta]`"
      ]
    },
    {
      "cell_type": "markdown",
      "metadata": {
        "id": "r_Y7QoS-P15-"
      },
      "source": [
        "**2 - Qual o efeito da superamostragem? O que é feito para mitigar o efeito indesejado? Responda citando os gráficos gerados na atividade.**"
      ]
    },
    {
      "cell_type": "markdown",
      "metadata": {
        "id": "Uge_jXlOP15-"
      },
      "source": [
        "**Resposta:**\n",
        "\n",
        "`[escreva aqui sua resposta]`"
      ]
    },
    {
      "cell_type": "markdown",
      "metadata": {
        "id": "g489NA4RP15-"
      },
      "source": [
        "<p><a href=\"https://colab.research.google.com/github/ifmg-betim/2022.2_AUT.040_ProcSin/blob/main/Ex/Ex07_Reamostragem_SEU_NOME.ipynb\"><img align=\"left\" src=\"https://colab.research.google.com/assets/colab-badge.svg\" alt=\"Open in Colab\" title=\"Open in Google Colaboratory\"></a>"
      ]
    }
  ],
  "metadata": {
    "@webio": {
      "lastCommId": null,
      "lastKernelId": null
    },
    "kernelspec": {
      "display_name": "Python 3",
      "language": "python",
      "name": "python3"
    },
    "language_info": {
      "codemirror_mode": {
        "name": "ipython",
        "version": 3
      },
      "file_extension": ".py",
      "mimetype": "text/x-python",
      "name": "python",
      "nbconvert_exporter": "python",
      "pygments_lexer": "ipython3",
      "version": "3.6.15"
    },
    "toc": {
      "base_numbering": 1,
      "nav_menu": {
        "height": "228px",
        "width": "370px"
      },
      "number_sections": true,
      "sideBar": true,
      "skip_h1_title": false,
      "title_cell": "Table of Contents",
      "title_sidebar": "Contents",
      "toc_cell": false,
      "toc_position": {},
      "toc_section_display": true,
      "toc_window_display": false
    },
    "varInspector": {
      "cols": {
        "lenName": 16,
        "lenType": 16,
        "lenVar": 40
      },
      "kernels_config": {
        "python": {
          "delete_cmd_postfix": "",
          "delete_cmd_prefix": "del ",
          "library": "var_list.py",
          "varRefreshCmd": "print(var_dic_list())"
        },
        "r": {
          "delete_cmd_postfix": ") ",
          "delete_cmd_prefix": "rm(",
          "library": "var_list.r",
          "varRefreshCmd": "cat(var_dic_list()) "
        }
      },
      "types_to_exclude": [
        "module",
        "function",
        "builtin_function_or_method",
        "instance",
        "_Feature"
      ],
      "window_display": false
    },
    "colab": {
      "provenance": []
    }
  },
  "nbformat": 4,
  "nbformat_minor": 0
}