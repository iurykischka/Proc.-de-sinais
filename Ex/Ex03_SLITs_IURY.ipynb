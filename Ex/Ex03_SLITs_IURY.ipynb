{
  "cells": [
    {
      "cell_type": "markdown",
      "metadata": {
        "id": "HddtemZFx4Mk"
      },
      "source": [
        "<a href=\"https://colab.research.google.com/github/iurykischka/Proc.-de-sinais/blob/master/Ex/Ex02_FFT_IURY.ipynb\" target=\"_parent\"><img src=\"https://colab.research.google.com/assets/colab-badge.svg\" alt=\"Open In Colab\"/></a>"
      ]
    },
    {
      "cell_type": "markdown",
      "metadata": {
        "id": "awhikAX14AjK"
      },
      "source": [
        "# Ex03 - `[IURY KISCHKA MENDES (0040411)]`\n",
        "\n",
        "Agora vamos implementar alguns sistemas lineares (SLITs) de tempo contínuo.\n",
        "\n",
        "**HONESTIDADE ACADÊMICA**\n",
        "\n",
        "Todo o trabalho feito no sentido do cumprimento das expectativas deste curso deve ser exclusivamente seu. A colaboração de terceiros na realização dos trabalhos não é permitida.\n",
        "\n",
        "Ver ou copiar o trabalho de outro indivíduo do curso ou retirar material de um livro, site ou outra fonte, mesmo em parte e apresentá-lo como seu próprio constitui desonestidade acadêmica, assim como mostrar ou dar a sua obra, mesmo em parte, a outro estudante. Da mesma forma, é desonestidade acadêmica fornecer ou tornar as soluções disponíveis dos trabalhos para os indivíduos que fazem ou poderão fazer este curso no futuro. Você está convidado a discutir o material do curso com os outros, a fim de melhor compreendê-lo. Você pode até discutir sobre os trabalhos com os colegas, mas você não pode compartilhar códigos, funções, projetos, tabelas, desenhos esquemáticos, mapas ou diagramas.\n",
        "\n",
        "Você pode e deve recorrer à Web para obter referências na busca de soluções para os trabalhos, mas não por soluções definitivas para os problemas. No entanto, deve-se citar explicitamente no projeto a origem de qualquer procedimento ou técnica que você descubra fora do curso.\n",
        "\n",
        "Todas as formas de desonestidade acadêmica são tratadas com rigor.\n",
        "\n",
        "**Instruções:**\n",
        "- Use a versão Python 3.x\n",
        "- Não apague os comentários existentes, mas você pode adicionar outros comentários.\n",
        "- TODO gráfico precisa ter rótulo nos eixos. As figuras devem ter tamanho `plt.figure(figsize=(8,2))`!\n",
        "\n",
        "**Objetivos**\n",
        "- Implementar e simular sistemas de tempo contínuo\n",
        "- Analisar sinais de entrada e saída de um sistema no domínio da frequência"
      ]
    },
    {
      "cell_type": "markdown",
      "metadata": {
        "id": "lWV5UWnq4AjS"
      },
      "source": [
        "## Implementando sistemas\n",
        "\n",
        "Vimos que um sistema linear invariante no tempo (SLIT) pode ser representado de diferentes maneiras:\n",
        "- Diagrama esquemático (circuito)\n",
        "- Equação diferencial\n",
        "- Função de transferência\n",
        "- Resposta ao impulso do sistema\n",
        "- Resposta em frequência\n",
        "\n",
        "### Circuito RC\n",
        "Considere o sistema abaixo representado por seu ***diagrama esquemático***, em que $v_\\mathrm{in}$ representa o sinal de entrada e $v_\\mathrm{out}$ o sinal de saída.\n",
        "\n",
        "![circuito_RC](https://upload.wikimedia.org/wikipedia/commons/thumb/e/e0/1st_Order_Lowpass_Filter_RC.svg/250px-1st_Order_Lowpass_Filter_RC.svg.png)\n",
        "\n",
        "A partir do diagrama, e usando as relações \n",
        "$$ v=Ri, \\:\\:\\: i=C\\frac{dv}{dt}, $$\n",
        "é possível escrever:\n",
        "$$ v_\\mathrm{out}(t) = v_\\mathrm{in}(t)-RC \\frac{d v_\\mathrm{out}}{dt}. $$\n",
        "\n",
        "Considerando $x(t)\\equiv v_\\mathrm{in}(t)$ e $y(t)\\equiv v_\\mathrm{out}(t)$, tem-se a ***equação diferencial*** do sistema representada por:\n",
        "\n",
        "$$ \\label{eq:edo} \\tag{1} y(t) + RC \\dot{y}(t) - x(t) = 0 .$$\n",
        "\n",
        "Transformando cada termpo da equação equação acima para o domínio de Laplace, tem se:\n",
        "\n",
        "$$ \\label{eq:lap} \\tag{2}  Y(s) + RC s Y(s) - X(s) = 0, $$\n",
        "\n",
        "em que é possível obter a ***função de transferência*** do sistema:\n",
        "\n",
        "$$ \\label{eq:tf} \\tag{3} H(s) = \\frac{Y(s)}{X(s)} = \\frac{1}{RC s + 1} .$$\n",
        "\n",
        "Fazendo a transformada inversa de Laplace de $\\eqref{eq:tf}$, é possível obter a ***resposta ao impulso***:\n",
        "\n",
        "$$ \\label{eq:ht} \\tag{4} h(t) = \\frac{1}{RC} e^{- \\left(\\frac{1}{RC}\\right) t} .$$\n",
        "\n",
        "Por fim, é possível ainda obter a ***resposta em frequência*** do sistema fazendo $H(j\\omega)=H(s)|_{s=j\\omega}$\n",
        "\n",
        "$$ H(j\\omega) = \\frac{1}{RC j\\omega + 1} .$$\n",
        "\n",
        "Na programação, utilizaremos a forma de *função de transferência* $\\eqref{eq:tf}$ para implementar no pacote SciPy. Para isso, define-se as variáveis `num` e `den` com os coeficientes do polinômio em $s$ do numerador e do denominador da função de transferência. Por exemplo, para $G(s)=\\frac{3 s^2 - 2 s +5}{7 s - 1}$, fazemos:\n",
        "\n",
        "```num = [3, -2, 5]\n",
        "den = [7, -1]\n",
        "sys = signal.lti(num, den)```\n",
        "\n",
        "Em que `sys` é um objeto que contém todas as informações sobre o sistema $G(s)=\\frac{3 s^2 - 2 s +5}{7 s - 1}$. Mais informações [nesse link](https://docs.scipy.org/doc/scipy/reference/generated/scipy.signal.lti.html?highlight=lti#scipy.signal.lti).\n",
        "\n",
        "<mark>**Faça**</mark>: implemente no código abaixo a função de transferêcia do circuito RC $\\eqref{eq:tf}$."
      ]
    },
    {
      "cell_type": "code",
      "execution_count": null,
      "metadata": {
        "run_control": {
          "marked": false
        },
        "id": "IXfn48TX4AjU",
        "colab": {
          "base_uri": "https://localhost:8080/"
        },
        "outputId": "7bef16ad-4ed1-4e94-8184-155712efa74c"
      },
      "outputs": [
        {
          "output_type": "execute_result",
          "data": {
            "text/plain": [
              "TransferFunctionContinuous(\n",
              "array([0.21276596]),\n",
              "array([1.        , 0.21276596]),\n",
              "dt: None\n",
              ")"
            ]
          },
          "metadata": {},
          "execution_count": 5
        }
      ],
      "source": [
        "# Importa bibliotecas\n",
        "import numpy as np, scipy as sp, matplotlib.pyplot as plt\n",
        "from scipy import signal\n",
        "from scipy.fft import fft\n",
        "\n",
        "# parâmetros\n",
        "R = 100\n",
        "C = 47e-3\n",
        "\n",
        "### SEU CÓDIGO COMEÇA AQUI ### (≈ 3 linhas de código)\n",
        "num = [1]\n",
        "den = [R*C, 1]\n",
        "sys = signal.lti(num, den)\n",
        "### FIM DO CÓDIGO ###\n",
        "\n",
        "sys"
      ]
    },
    {
      "cell_type": "markdown",
      "metadata": {
        "id": "P8VG2vK74AjW"
      },
      "source": [
        "**Saída esperada**: informações sobre o objeto `sys`.\n",
        "```\n",
        "TransferFunctionContinuous(\n",
        "array([0.21276596]),\n",
        "array([1.        , 0.21276596]),\n",
        "dt: None\n",
        ")\n",
        "```\n",
        "___\n",
        "\n",
        "### Analisando o sistema implementado\n",
        "\n",
        "Para um sistema de tempo contínuo você pode usar as funções abaixo.\n",
        "- `signal.impulse(sys)`: resposta ao impulso do sistema\n",
        "- `signal.step(sys)`: resposta ao degrau do sistema\n",
        "- `signal.freqresp(sys)`: resposta em frequência\n",
        "- `signal.bode(sys)`: diagrama de Bode\n",
        "\n",
        "**Lembre-se**: você pode consultar ajuda para essas funções na [página do scipy.signal nesse link](https://docs.scipy.org/doc/scipy/reference/signal.html); digitar `?<nome_da_função>` para ver uma ajuda rápida da função; ou ainda posicionar o cursor na chamada da função e apertar `Shift+Tab` do seu teclado.\n",
        "\n",
        "<mark>**Faça**</mark>: usando os comandos acima, na célula abaixo, faça três gráficos:\n",
        "1. Resposta ao impulso do sistema\n",
        "1. Resposta do sistema a um degrau de amplitude igual a dez, ou seja, com entrada: $x(t)=10 u(t)$. Lembre-se que o sistema é LTI, portanto, é possível simular essa entrada usando as funções acima e alguma manipulação do sinal obtido.\n",
        "1. Diagrama de Bode do sistema (gráficos de módulo E fase)\n",
        "\n",
        "**LEIA ISTO**: Use o mesmo sistema já definido, não precisa definir o sistema novamente (a variável `sys` da célula anterior ainda existe!). TODO gráfico precisa ter rótulo nos eixos. As figuras devem ter tamanho `(8,2)`, use o comando `plt.figure(figsize=(8,2))`!\n",
        "\n",
        "**Para aprimorar (não obrigatório):** se quiser melhorar seus conhecimentos sobre a ferramenta, defina nas funções acima quais intervalos de tempo (ou de frequência) serão calculados. Isso é possível por meio de parâmetros de entrada: `T` para passar o vetor de tempo correspondente nas funções `step` e `impulse`; `w` para passar o vetor de frequências nas funções `bode` e `freqresp`."
      ]
    },
    {
      "cell_type": "code",
      "execution_count": null,
      "metadata": {
        "run_control": {
          "marked": false
        },
        "id": "8OPcYoSr4AjX",
        "colab": {
          "base_uri": "https://localhost:8080/",
          "height": 703
        },
        "outputId": "4e76fe3c-ee2d-4d58-d55c-e103311bd250"
      },
      "outputs": [
        {
          "output_type": "display_data",
          "data": {
            "text/plain": [
              "<Figure size 576x144 with 1 Axes>"
            ],
            "image/png": "[encoded data removed]"
          },
          "metadata": {
            "needs_background": "light"
          }
        },
        {
          "output_type": "display_data",
          "data": {
            "text/plain": [
              "<Figure size 576x144 with 1 Axes>"
            ],
            "image/png": "[encoded data removed]"
          },
          "metadata": {
            "needs_background": "light"
          }
        },
        {
          "output_type": "display_data",
          "data": {
            "text/plain": [
              "<Figure size 576x144 with 1 Axes>"
            ],
            "image/png": "[encoded data removed]"
          },
          "metadata": {
            "needs_background": "light"
          }
        },
        {
          "output_type": "display_data",
          "data": {
            "text/plain": [
              "<Figure size 576x144 with 1 Axes>"
            ],
            "image/png": "[encoded data removed]"
          },
          "metadata": {
            "needs_background": "light"
          }
        }
      ],
      "source": [
        "### SEU CÓDIGO COMEÇA AQUI ### (≈ 30 linhas de código)\n",
        "t_impulse, y_impulse = signal.impulse(sys)\n",
        "\n",
        "plt.figure(figsize=(8,2))\n",
        "plt.plot(t_impulse, y_impulse);\n",
        "plt.title(\"Resposta ao impulso\");\n",
        "plt.xlabel('tempo (s)')\n",
        "plt.ylabel('$h(t)$');\n",
        "plt.grid(1);\n",
        "\n",
        "t_step, y_step = signal.step(sys)\n",
        "plt.figure(figsize=(8,2))\n",
        "plt.plot(t_step, 10*y_step);\n",
        "plt.xlabel(\"tempo (s)\")\n",
        "plt.ylabel(\"Resposta ao degrau\")\n",
        "plt.title(\"Resposta ao degrau\");\n",
        "plt.grid(1);\n",
        "\n",
        "w1, mag1, phase1 = signal.bode(sys)\n",
        "plt.figure(figsize=(8,2))\n",
        "plt.semilogx(w1, mag1) #modulo de H1\n",
        "plt.xlabel(\"frequencias (rad/s)\")\n",
        "plt.ylabel(\"Modulo\")\n",
        "plt.title(\"Resposta em Frequencia\")\n",
        "plt.grid(1);\n",
        "\n",
        "plt.figure(figsize=(8,2))\n",
        "plt.semilogx(w1, phase1) #fase de H1\n",
        "plt.xlabel(\"frequencias (rad/s)\")\n",
        "plt.ylabel(\"Fase\")\n",
        "plt.title(\"Resposta em Frequencia\")\n",
        "plt.grid(1);\n",
        "\n",
        "### FIM DO CÓDIGO ###"
      ]
    },
    {
      "cell_type": "markdown",
      "metadata": {
        "id": "syWnkniw4AjY"
      },
      "source": [
        "**Saída esperada**:\n",
        "quatro gráficos: (1) resposta ao impulso, (2) resposta ao degrau com amplitude especificada, (3a) gráfico de módulo do diagrama de Bode do sistema e (3b) gráfico de fase do diagrama de Bode do sistema. Todos com rótulos apropriados.\n",
        "\n",
        "**Como saber que está correto meu gráfico?** Lembre-se que o gráfico se refere ao circuito RC, que possui apenas um polo real, com constante de tempo $\\tau=\\frac{1}{RC}$. Seus conhecimentos de ASDL serão úteis para verificar se o gráfico é compatível com o esperado.\n",
        "\n",
        "___\n",
        "\n",
        "## Implementação de outro sistema\n",
        "\n",
        "Agora você irá implementar um sistema linear. Seus conhecimentos em análise de circuitos serão importantes nessa etapa. Mas, antes, escreva seu RA na variável `RA` abaixo e veja qual dos circuitos (1, 2, 3 ou 4) você implementará e também quais os valores dos parâmetros R, L e C."
      ]
    },
    {
      "cell_type": "code",
      "execution_count": null,
      "metadata": {
        "run_control": {
          "marked": false
        },
        "id": "Q65TpDy24AjY",
        "colab": {
          "base_uri": "https://localhost:8080/"
        },
        "outputId": "46a13ec6-cf6f-4389-fb69-b53d5c020f3c"
      },
      "outputs": [
        {
          "output_type": "stream",
          "name": "stdout",
          "text": [
            "ATENÇÃO: você deve implementar o circuito 1, usando os seguintes parâmetros:\n",
            "  R = 4.99 Ω\n",
            "  L = 16.46 H\n",
            "  C = 0.66 F.\n"
          ]
        }
      ],
      "source": [
        "### SEU CÓDIGO COMEÇA AQUI ### (1 linha)\n",
        "RA = 40411 ##http://professor.pucgoias.edu.br/SiteDocente/admin/arquivosUpload/17742/material/Aula%206%20Cap3_Nise%20v2.pdf\n",
        "### FIM DO CÓDIGO ###\n",
        "\n",
        "np.random.seed(RA*39+239)\n",
        "R = np.random.uniform(2,6)\n",
        "L = np.random.uniform(10,20)\n",
        "C = np.random.uniform(.4,1.2)\n",
        "print(\"ATENÇÃO: você deve implementar o circuito %d, usando os seguintes parâmetros:\"%((RA*3+7)%4+1))\n",
        "print(\"  R = %.2f Ω\\n  L = %.2f H\\n  C = %.2f F.\"%(R,L,C))"
      ]
    },
    {
      "cell_type": "markdown",
      "metadata": {
        "id": "hdAHpvG84AjZ"
      },
      "source": [
        "| Sistema 1  | Sistema 2 |\n",
        "| :---:         |     :---:      |\n",
        "|![](https://upload.wikimedia.org/wikipedia/en/thumb/7/7d/RLC_low-pass.svg/320px-RLC_low-pass.svg.png)| ![](https://upload.wikimedia.org/wikipedia/en/thumb/c/ce/RLC_high-pass.svg/320px-RLC_high-pass.svg.png)|\n",
        "|       | |\n",
        "| **Sistema 3** | **Sistema 4** |\n",
        "|![](https://upload.wikimedia.org/wikipedia/en/thumb/1/14/RLC_series_band-pass.svg/320px-RLC_series_band-pass.svg.png)|![](https://upload.wikimedia.org/wikipedia/en/thumb/0/05/RLC_parallel_band-stop.svg/320px-RLC_parallel_band-stop.svg.png)|\n",
        "\n",
        "Conforme a saída da célula anterior, para o circuito escolhido, você vai fazer o seguinte:\n",
        "1. Obtenha a equação diferencial do sistema, explicitando entrada e saída (**a entrada é a tensão na parte \"in\" do circuito e a saída é a corrente em $R_L$**)\n",
        "2. Obtenha a função de transferência do sistema no domínio de Laplace\n",
        "3. Implemente a função de transferência com os valores dos parâmetros indicados na saída da célula acima\n",
        "4. Mostre o Diagrama de Bode (módulo e fase) e a resposta ao degrau do sistema\n",
        "\n",
        "Escreva os resultados de forma ***organizada*** nas células seguintes."
      ]
    },
    {
      "cell_type": "markdown",
      "metadata": {
        "id": "ZxxFqUNN4Aja"
      },
      "source": [
        "___\n",
        "### Equação Diferencial\n",
        "<mark>**FAÇA**</mark>: ***apague o exemplo de equação abaixo*** *e escreva a equação diferencial do sistema.*\n",
        "\n",
        "$$ 4,99  y(t) + 3,29 \\dot y(t) + 16,46 \\ddot y(t) = x(t) $$\n"
      ]
    },
    {
      "cell_type": "markdown",
      "metadata": {
        "id": "wZSiyKDj4Aja"
      },
      "source": [
        "___\n",
        "### Função de transferência\n",
        "<mark>**FAÇA**</mark>: ***apague o exemplo de função de transferência abaixo*** *e escreva abaixo a função de transferência do sistema.*\n",
        "\n",
        "$$ H(s) = \\frac{ 1 }{ 16,46 s^2 + 3,29 s + 4,99 }$$\n"
      ]
    },
    {
      "cell_type": "markdown",
      "metadata": {
        "id": "oFj_l3VD4Ajb"
      },
      "source": [
        "___\n",
        "### Simulação do sistema\n",
        "\n",
        "<mark>**Faça**</mark>: \n",
        "1. Implemente a função de transferência com os valores dos parâmetros indicados anteriormente\n",
        "1. Mostre os seguintes gráficos\n",
        "   - Diagrama de Bode do sistema com gráficos de módulo (dB) e de fase (em graus), com eixo das frequências em Hz\n",
        "   - Resposta ao degrau do sistema\n",
        "\n",
        "**Obs.:** TODO gráfico precisa ter rótulo nos eixos. As figuras devem ter tamanho `plt.figure(figsize=(8,2))`!"
      ]
    },
    {
      "cell_type": "code",
      "execution_count": 52,
      "metadata": {
        "run_control": {
          "marked": false
        },
        "id": "CPQ1s7HH4Ajb",
        "outputId": "eb310a1c-01be-44d7-ac52-7650afed1345",
        "colab": {
          "base_uri": "https://localhost:8080/",
          "height": 514
        }
      },
      "outputs": [
        {
          "output_type": "display_data",
          "data": {
            "text/plain": [
              "<Figure size 576x144 with 1 Axes>"
            ],
            "image/png": "[encoded data removed]"
          },
          "metadata": {
            "needs_background": "light"
          }
        },
        {
          "output_type": "display_data",
          "data": {
            "text/plain": [
              "<Figure size 576x144 with 1 Axes>"
            ],
            "image/png": "[encoded data removed]"
          },
          "metadata": {
            "needs_background": "light"
          }
        },
        {
          "output_type": "display_data",
          "data": {
            "text/plain": [
              "<Figure size 576x144 with 1 Axes>"
            ],
            "image/png": "[encoded data removed]"
          },
          "metadata": {
            "needs_background": "light"
          }
        }
      ],
      "source": [
        "### SEU CÓDIGO COMEÇA AQUI ### (≈ 40 linhas de código)\n",
        "\n",
        "# Sistema (complete o código!)\n",
        "import numpy as np, scipy as sp, matplotlib.pyplot as plt\n",
        "from scipy import signal\n",
        "from scipy.fft import fft\n",
        "\n",
        "# parâmetros\n",
        "R = 4.99\n",
        "C = 0.66\n",
        "L = 16.46\n",
        "\n",
        "num = [1]\n",
        "den = [L, R*C, R]\n",
        "sys = signal.lti(num, den)\n",
        "\n",
        "# Calcula diagrama de Bode\n",
        "\n",
        "w1, mag1, phase1 = signal.bode(sys)\n",
        "phase1 = np.angle(w1, deg=1)\n",
        "\n",
        "# Converte frequências para Hz\n",
        "\n",
        "w1 = w1/(2*np.pi)\n",
        "\n",
        "# Resposta ao degrau\n",
        "\n",
        "t1, y1 = signal.step(sys)\n",
        "\n",
        "# Figuras\n",
        "plt.figure(figsize=(8,2))\n",
        "plt.semilogx(w1, mag1)\n",
        "plt.xlim(10**(-2),1)\n",
        "plt.xlabel(\"frequencias (Hz)\")\n",
        "plt.ylabel(\"Modulo\")\n",
        "plt.title(\"Diagrama de Bode\")\n",
        "plt.grid(1);\n",
        "\n",
        "plt.figure(figsize=(8,2))\n",
        "plt.ylabel(\"$\\measuredangle X[k]$ (°)\")\n",
        "plt.xlabel(\"frequencia (Hz)\")\n",
        "plt.plot(w1, phase1)\n",
        "plt.grid(1);\n",
        "\n",
        "plt.figure(figsize=(8,2))\n",
        "plt.plot(t1, y1)\n",
        "plt.xlabel(\"tempo (s)\")\n",
        "plt.ylabel(\"Resposta ao degrau\")\n",
        "plt.title(\"Resposta ao degrau\");\n",
        "plt.grid(1);\n",
        "\n",
        "### FIM DO CÓDIGO ###"
      ]
    },
    {
      "cell_type": "markdown",
      "metadata": {
        "id": "mNnira5y4Ajc"
      },
      "source": [
        "**Saída esperada**:\n",
        "1. diagrama de Bode com magnitude em dB e frequências em Hz;\n",
        "2. digrama de Bode com fase em graus e eixo das frequências em Hz;\n",
        "2. resposta ao degrau do sistema.\n",
        "___\n",
        "\n",
        "## Simulando o sistema\n",
        "\n",
        "Agora você vai aplicar um sinal aleatório na entrada do sistema $x(t)$ e verificar a sua respectiva resposta $y(t)$. O código já implementado abaixo constrói o vetor `tempo`, com `N` pontos e período de amostragem `T`. O sinal aleatório é criado na variável `xa`, com distribuição gaussiana, usando a função `np.random.normal(loc=valormedio, scale=desviopadrao, size=numeropontos)`, com média nula e desvio padrão igual a `25`. Você pode fazer ajustes nos parâmetros de criação do sinal aleatório, se achar necessário.\n",
        "\n",
        "<mark>**Faça**</mark>: \n",
        "1. Aplique o sinal `xa` no sistema (circuito RLC), com condições iniciais nulas, e colete a respectiva saída `ya`. Para isso, use a função `signal.lsim` (consulte [esse link](https://docs.scipy.org/doc/scipy/reference/generated/scipy.signal.lsim.html#scipy.signal.lsim)). Ao usar a função `signal.lsim`, não deixe de passar o vetor `tempo` como parâmetro.\n",
        "1. Plote, num mesmo gráfico, os sinais de entrada `xa` e de saída `ya` no *domínio do tempo*. O gráfico deve ter tamanho `figsize=(8,2)`.\n",
        "1. Plote, num mesmo gráfico, o módulo de `xa`, o módulo de `ya` (não precisa plotar a fase!) e a resposta em frequência do sistema. Ajuste as escalas e eixos (frequências em Hz) de modo a ficar claro a modificação que o sistema fez no sinal de entrada `xa` para produzir a saída `ya`.Faça tudo num **único gráfico**, de tamanho `figsize=(8,2)`:\n",
        "   - módulo da FFT do sinal de entrada `xa` (use a função que você criou na atividade prática anterior!), com frequências em Hz;\n",
        "   - módulo da FFT do sinal de saída `ya` (use a função que você criou na atividade prática anterior!), com frequências em Hz;\n",
        "   - módulo da resposta em frequência do sistema (não faça em dB não!), com frequências em Hz."
      ]
    },
    {
      "cell_type": "code",
      "execution_count": null,
      "metadata": {
        "run_control": {
          "marked": false
        },
        "id": "vxhXlBR74Ajc"
      },
      "outputs": [],
      "source": [
        "########################################################\n",
        "### INSIRA NESTA CÉLULA A FUNÇÃO PARA CÁLCULO DA FFT ###\n",
        "########################################################\n",
        "def serieFourier(...):\n",
        "    ..."
      ]
    },
    {
      "cell_type": "code",
      "execution_count": null,
      "metadata": {
        "run_control": {
          "marked": false
        },
        "id": "l0yT5LIe4Ajd"
      },
      "outputs": [],
      "source": [
        "# Vetor tempo\n",
        "N = 600\n",
        "T = 2\n",
        "tempo = np.linspace(0, N*T, N)\n",
        "\n",
        "# Sinal aleatório\n",
        "xa = np.random.normal(loc=0, scale=10, size=len(tempo))\n",
        "\n",
        "\n",
        "### SEU CÓDIGO COMEÇA AQUI ### (≈ 30 linhas de código)\n",
        "\n",
        "\n",
        "### FIM DO CÓDIGO ###"
      ]
    },
    {
      "cell_type": "markdown",
      "metadata": {
        "id": "vH6wTFRz4Ajd"
      },
      "source": [
        "**Saída esperada**. Dois gráficos:\n",
        "1. Sinais `xa` e `ya` no *domínio do tempo*, num único gráfico, com eixos apropriados, legenda, tamanho `figsize=(8,2)` e título \"Domínio do Tempo\".\n",
        "1. Gráfico de módulo no domínio da frequência (não faça em dB não!) dos sinais, num mesmo gráfico, dos sinais `xa`, `ya` e da resposta em frequência do sistema, com frequências em Hz, legenda, tamanho `figsize=(8,2)`, escalas apropriadas, evidenciando a ação do sistema no sinal.\n",
        "\n",
        "___\n",
        "\n",
        "# Concluões\n",
        "\n",
        "<mark>**Faça**</mark>: Responda as seguintes perguntas:\n",
        "\n",
        "**1 - O circuito simulado é um filtro de qual tipo? Justifique mencionando EXPLICITAMENTE o(s) gráfico(s) produzido(s).**"
      ]
    },
    {
      "cell_type": "markdown",
      "metadata": {
        "id": "9xWYawie4Aje"
      },
      "source": [
        "**Resposta:**\n",
        "\n",
        "`[escreva aqui sua resposta]`"
      ]
    },
    {
      "cell_type": "markdown",
      "metadata": {
        "id": "YRNnjw_I4Aje"
      },
      "source": [
        "**2 - A curva abaixo mostra a resposta ao degrau de um sistema. Qual valor aproximado da constante de tempo desse sistema?**\n",
        "\n",
        "<img src=\"https://sp-ao.shortpixel.ai/client/to_webp,q_glossy,ret_img,w_1024/https://electricalacademia.com/wp-content/uploads/2017/07/1-16-1024x895.gif\" alt=\"circuito\" width=\"400\"/>"
      ]
    },
    {
      "cell_type": "markdown",
      "metadata": {
        "id": "qPsP4tnn4Ajf"
      },
      "source": [
        "**Resposta:**\n",
        "\n",
        "`[escreva aqui sua resposta]`"
      ]
    },
    {
      "cell_type": "markdown",
      "metadata": {
        "id": "1lfwE8LY4Ajg"
      },
      "source": [
        "**3 - Para o sistema do item anterior, como seria o Diagrama de Bode do sistema? Descreva em palavras apenas.**"
      ]
    },
    {
      "cell_type": "markdown",
      "metadata": {
        "id": "3rMgCMWR4Ajg"
      },
      "source": [
        "**Resposta:**\n",
        "\n",
        "`[escreva aqui sua resposta]`"
      ]
    },
    {
      "cell_type": "markdown",
      "metadata": {
        "id": "V_kJoY_G4Ajh"
      },
      "source": [
        "**4 - O que você aprendeu com esse trabalho? Alguma sugestão de melhoria? (essa resposta não vale ponto)**"
      ]
    },
    {
      "cell_type": "markdown",
      "metadata": {
        "id": "mf9J0iY44Aji"
      },
      "source": [
        "**Resposta:**\n",
        "\n",
        "`[escreva aqui sua resposta]`"
      ]
    },
    {
      "cell_type": "markdown",
      "metadata": {
        "id": "zzaByZJ34Ajk"
      },
      "source": [
        "Bom trabalho :c)\n",
        "\n",
        "___\n",
        "# DESAFIO! (opcional)\n",
        "\n",
        "1. Analise os circuitos abaixo e obtenha função de transferência dos filtros abaixo.\n",
        "1. Simule os filtros e obtenha diagrama de Bode dos sistemas.\n",
        "1. Simule a composição em série dos circuitos abaixo. Qual tipo de filtro foi produzido?\n",
        "1. Alterando parâmetros do sistema (valores de resistências, capacitâncias ou indutâncias) e observando a resposta em frequência, produza, a partir dos circuitos, um filtro passa-faixa. Mostre quais são as frequências de corte e de passagem do filtro produzido.\n",
        "1. Alterando parâmetros do sistema (valores de resistências, capacitâncias ou indutâncias) e observando a resposta em frequência, produza, a partir dos circuitos, um filtro rejeita-faixa. Mostre quais são as frequências de corte e de passagem do filtro produzido.\n",
        "\n",
        "**Circuito A:**\n",
        "\n",
        "![](https://upload.wikimedia.org/wikipedia/commons/5/5c/Sallen-Key_Lowpass_Example.svg)\n",
        "\n",
        "**Circuito B:**\n",
        "\n",
        "![](https://upload.wikimedia.org/wikipedia/commons/e/ec/Sallen-Key_Highpass_Example.svg)\n"
      ]
    },
    {
      "cell_type": "code",
      "execution_count": null,
      "metadata": {
        "id": "tAYydSi94Ajl"
      },
      "outputs": [],
      "source": [
        "### SEU CÓDIGO COMEÇA AQUI ###\n",
        "\n",
        "\n",
        "### FIM DO CÓDIGO ###"
      ]
    },
    {
      "cell_type": "markdown",
      "metadata": {
        "id": "ABKObYZn4Ajl"
      },
      "source": [
        "Fim (ufa!)"
      ]
    }
  ],
  "metadata": {
    "kernelspec": {
      "display_name": "Python 3",
      "language": "python",
      "name": "python3"
    },
    "language_info": {
      "codemirror_mode": {
        "name": "ipython",
        "version": 3
      },
      "file_extension": ".py",
      "mimetype": "text/x-python",
      "name": "python",
      "nbconvert_exporter": "python",
      "pygments_lexer": "ipython3",
      "version": "3.6.15"
    },
    "toc": {
      "base_numbering": 1,
      "nav_menu": {
        "height": "228px",
        "width": "370px"
      },
      "number_sections": true,
      "sideBar": true,
      "skip_h1_title": false,
      "title_cell": "Table of Contents",
      "title_sidebar": "Contents",
      "toc_cell": false,
      "toc_position": {},
      "toc_section_display": true,
      "toc_window_display": false
    },
    "varInspector": {
      "cols": {
        "lenName": 16,
        "lenType": 16,
        "lenVar": 40
      },
      "kernels_config": {
        "python": {
          "delete_cmd_postfix": "",
          "delete_cmd_prefix": "del ",
          "library": "var_list.py",
          "varRefreshCmd": "print(var_dic_list())"
        },
        "r": {
          "delete_cmd_postfix": ") ",
          "delete_cmd_prefix": "rm(",
          "library": "var_list.r",
          "varRefreshCmd": "cat(var_dic_list()) "
        }
      },
      "types_to_exclude": [
        "module",
        "function",
        "builtin_function_or_method",
        "instance",
        "_Feature"
      ],
      "window_display": false
    },
    "colab": {
      "provenance": []
    }
  },
  "nbformat": 4,
  "nbformat_minor": 0
}